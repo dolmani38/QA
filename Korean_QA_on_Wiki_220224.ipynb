{
  "nbformat": 4,
  "nbformat_minor": 0,
  "metadata": {
    "colab": {
      "name": "Untitled10.ipynb",
      "provenance": [],
      "include_colab_link": true
    },
    "kernelspec": {
      "name": "python3",
      "display_name": "Python 3"
    },
    "accelerator": "GPU",
    "widgets": {
      "application/vnd.jupyter.widget-state+json": {
        "56e5ab35ae4343cc8c4690a72485b33f": {
          "model_module": "@jupyter-widgets/controls",
          "model_name": "HBoxModel",
          "model_module_version": "1.5.0",
          "state": {
            "_dom_classes": [],
            "_model_module": "@jupyter-widgets/controls",
            "_model_module_version": "1.5.0",
            "_model_name": "HBoxModel",
            "_view_count": null,
            "_view_module": "@jupyter-widgets/controls",
            "_view_module_version": "1.5.0",
            "_view_name": "HBoxView",
            "box_style": "",
            "children": [
              "IPY_MODEL_6336a5006fb448e694ca1305bdee14d8",
              "IPY_MODEL_a7492d0a4b86436c8a43bcdf287d94ef",
              "IPY_MODEL_fcff3fe4879441b889bc84d674eb26d7"
            ],
            "layout": "IPY_MODEL_934835df43bb4da98561d06c3ba6af6e"
          }
        },
        "6336a5006fb448e694ca1305bdee14d8": {
          "model_module": "@jupyter-widgets/controls",
          "model_name": "HTMLModel",
          "model_module_version": "1.5.0",
          "state": {
            "_dom_classes": [],
            "_model_module": "@jupyter-widgets/controls",
            "_model_module_version": "1.5.0",
            "_model_name": "HTMLModel",
            "_view_count": null,
            "_view_module": "@jupyter-widgets/controls",
            "_view_module_version": "1.5.0",
            "_view_name": "HTMLView",
            "description": "",
            "description_tooltip": null,
            "layout": "IPY_MODEL_ac25a50b60cb49bebfdce837979fd0db",
            "placeholder": "​",
            "style": "IPY_MODEL_f44f4d6dc8414634b2cf669501423bbd",
            "value": "Downloading (…)okenizer_config.json: 100%"
          }
        },
        "a7492d0a4b86436c8a43bcdf287d94ef": {
          "model_module": "@jupyter-widgets/controls",
          "model_name": "FloatProgressModel",
          "model_module_version": "1.5.0",
          "state": {
            "_dom_classes": [],
            "_model_module": "@jupyter-widgets/controls",
            "_model_module_version": "1.5.0",
            "_model_name": "FloatProgressModel",
            "_view_count": null,
            "_view_module": "@jupyter-widgets/controls",
            "_view_module_version": "1.5.0",
            "_view_name": "ProgressView",
            "bar_style": "success",
            "description": "",
            "description_tooltip": null,
            "layout": "IPY_MODEL_c6ae166e85b9470e8802caf4ec874917",
            "max": 111,
            "min": 0,
            "orientation": "horizontal",
            "style": "IPY_MODEL_3a0562d906fb4b2bb2be2529783ea92e",
            "value": 111
          }
        },
        "fcff3fe4879441b889bc84d674eb26d7": {
          "model_module": "@jupyter-widgets/controls",
          "model_name": "HTMLModel",
          "model_module_version": "1.5.0",
          "state": {
            "_dom_classes": [],
            "_model_module": "@jupyter-widgets/controls",
            "_model_module_version": "1.5.0",
            "_model_name": "HTMLModel",
            "_view_count": null,
            "_view_module": "@jupyter-widgets/controls",
            "_view_module_version": "1.5.0",
            "_view_name": "HTMLView",
            "description": "",
            "description_tooltip": null,
            "layout": "IPY_MODEL_d1e866dd41ae4060bc74760dfa244eeb",
            "placeholder": "​",
            "style": "IPY_MODEL_d65761b82dcd462daf04f7f898e3e4fb",
            "value": " 111/111 [00:00&lt;00:00, 201B/s]"
          }
        },
        "934835df43bb4da98561d06c3ba6af6e": {
          "model_module": "@jupyter-widgets/base",
          "model_name": "LayoutModel",
          "model_module_version": "1.2.0",
          "state": {
            "_model_module": "@jupyter-widgets/base",
            "_model_module_version": "1.2.0",
            "_model_name": "LayoutModel",
            "_view_count": null,
            "_view_module": "@jupyter-widgets/base",
            "_view_module_version": "1.2.0",
            "_view_name": "LayoutView",
            "align_content": null,
            "align_items": null,
            "align_self": null,
            "border": null,
            "bottom": null,
            "display": null,
            "flex": null,
            "flex_flow": null,
            "grid_area": null,
            "grid_auto_columns": null,
            "grid_auto_flow": null,
            "grid_auto_rows": null,
            "grid_column": null,
            "grid_gap": null,
            "grid_row": null,
            "grid_template_areas": null,
            "grid_template_columns": null,
            "grid_template_rows": null,
            "height": null,
            "justify_content": null,
            "justify_items": null,
            "left": null,
            "margin": null,
            "max_height": null,
            "max_width": null,
            "min_height": null,
            "min_width": null,
            "object_fit": null,
            "object_position": null,
            "order": null,
            "overflow": null,
            "overflow_x": null,
            "overflow_y": null,
            "padding": null,
            "right": null,
            "top": null,
            "visibility": null,
            "width": null
          }
        },
        "ac25a50b60cb49bebfdce837979fd0db": {
          "model_module": "@jupyter-widgets/base",
          "model_name": "LayoutModel",
          "model_module_version": "1.2.0",
          "state": {
            "_model_module": "@jupyter-widgets/base",
            "_model_module_version": "1.2.0",
            "_model_name": "LayoutModel",
            "_view_count": null,
            "_view_module": "@jupyter-widgets/base",
            "_view_module_version": "1.2.0",
            "_view_name": "LayoutView",
            "align_content": null,
            "align_items": null,
            "align_self": null,
            "border": null,
            "bottom": null,
            "display": null,
            "flex": null,
            "flex_flow": null,
            "grid_area": null,
            "grid_auto_columns": null,
            "grid_auto_flow": null,
            "grid_auto_rows": null,
            "grid_column": null,
            "grid_gap": null,
            "grid_row": null,
            "grid_template_areas": null,
            "grid_template_columns": null,
            "grid_template_rows": null,
            "height": null,
            "justify_content": null,
            "justify_items": null,
            "left": null,
            "margin": null,
            "max_height": null,
            "max_width": null,
            "min_height": null,
            "min_width": null,
            "object_fit": null,
            "object_position": null,
            "order": null,
            "overflow": null,
            "overflow_x": null,
            "overflow_y": null,
            "padding": null,
            "right": null,
            "top": null,
            "visibility": null,
            "width": null
          }
        },
        "f44f4d6dc8414634b2cf669501423bbd": {
          "model_module": "@jupyter-widgets/controls",
          "model_name": "DescriptionStyleModel",
          "model_module_version": "1.5.0",
          "state": {
            "_model_module": "@jupyter-widgets/controls",
            "_model_module_version": "1.5.0",
            "_model_name": "DescriptionStyleModel",
            "_view_count": null,
            "_view_module": "@jupyter-widgets/base",
            "_view_module_version": "1.2.0",
            "_view_name": "StyleView",
            "description_width": ""
          }
        },
        "c6ae166e85b9470e8802caf4ec874917": {
          "model_module": "@jupyter-widgets/base",
          "model_name": "LayoutModel",
          "model_module_version": "1.2.0",
          "state": {
            "_model_module": "@jupyter-widgets/base",
            "_model_module_version": "1.2.0",
            "_model_name": "LayoutModel",
            "_view_count": null,
            "_view_module": "@jupyter-widgets/base",
            "_view_module_version": "1.2.0",
            "_view_name": "LayoutView",
            "align_content": null,
            "align_items": null,
            "align_self": null,
            "border": null,
            "bottom": null,
            "display": null,
            "flex": null,
            "flex_flow": null,
            "grid_area": null,
            "grid_auto_columns": null,
            "grid_auto_flow": null,
            "grid_auto_rows": null,
            "grid_column": null,
            "grid_gap": null,
            "grid_row": null,
            "grid_template_areas": null,
            "grid_template_columns": null,
            "grid_template_rows": null,
            "height": null,
            "justify_content": null,
            "justify_items": null,
            "left": null,
            "margin": null,
            "max_height": null,
            "max_width": null,
            "min_height": null,
            "min_width": null,
            "object_fit": null,
            "object_position": null,
            "order": null,
            "overflow": null,
            "overflow_x": null,
            "overflow_y": null,
            "padding": null,
            "right": null,
            "top": null,
            "visibility": null,
            "width": null
          }
        },
        "3a0562d906fb4b2bb2be2529783ea92e": {
          "model_module": "@jupyter-widgets/controls",
          "model_name": "ProgressStyleModel",
          "model_module_version": "1.5.0",
          "state": {
            "_model_module": "@jupyter-widgets/controls",
            "_model_module_version": "1.5.0",
            "_model_name": "ProgressStyleModel",
            "_view_count": null,
            "_view_module": "@jupyter-widgets/base",
            "_view_module_version": "1.2.0",
            "_view_name": "StyleView",
            "bar_color": null,
            "description_width": ""
          }
        },
        "d1e866dd41ae4060bc74760dfa244eeb": {
          "model_module": "@jupyter-widgets/base",
          "model_name": "LayoutModel",
          "model_module_version": "1.2.0",
          "state": {
            "_model_module": "@jupyter-widgets/base",
            "_model_module_version": "1.2.0",
            "_model_name": "LayoutModel",
            "_view_count": null,
            "_view_module": "@jupyter-widgets/base",
            "_view_module_version": "1.2.0",
            "_view_name": "LayoutView",
            "align_content": null,
            "align_items": null,
            "align_self": null,
            "border": null,
            "bottom": null,
            "display": null,
            "flex": null,
            "flex_flow": null,
            "grid_area": null,
            "grid_auto_columns": null,
            "grid_auto_flow": null,
            "grid_auto_rows": null,
            "grid_column": null,
            "grid_gap": null,
            "grid_row": null,
            "grid_template_areas": null,
            "grid_template_columns": null,
            "grid_template_rows": null,
            "height": null,
            "justify_content": null,
            "justify_items": null,
            "left": null,
            "margin": null,
            "max_height": null,
            "max_width": null,
            "min_height": null,
            "min_width": null,
            "object_fit": null,
            "object_position": null,
            "order": null,
            "overflow": null,
            "overflow_x": null,
            "overflow_y": null,
            "padding": null,
            "right": null,
            "top": null,
            "visibility": null,
            "width": null
          }
        },
        "d65761b82dcd462daf04f7f898e3e4fb": {
          "model_module": "@jupyter-widgets/controls",
          "model_name": "DescriptionStyleModel",
          "model_module_version": "1.5.0",
          "state": {
            "_model_module": "@jupyter-widgets/controls",
            "_model_module_version": "1.5.0",
            "_model_name": "DescriptionStyleModel",
            "_view_count": null,
            "_view_module": "@jupyter-widgets/base",
            "_view_module_version": "1.2.0",
            "_view_name": "StyleView",
            "description_width": ""
          }
        },
        "6a4d204a181b4ebfb08dbe791fbe03fc": {
          "model_module": "@jupyter-widgets/controls",
          "model_name": "HBoxModel",
          "model_module_version": "1.5.0",
          "state": {
            "_dom_classes": [],
            "_model_module": "@jupyter-widgets/controls",
            "_model_module_version": "1.5.0",
            "_model_name": "HBoxModel",
            "_view_count": null,
            "_view_module": "@jupyter-widgets/controls",
            "_view_module_version": "1.5.0",
            "_view_name": "HBoxView",
            "box_style": "",
            "children": [
              "IPY_MODEL_ffafa4859e00443a95dc4de772b3e209",
              "IPY_MODEL_255ccb8e0a804e819a7628fb04c53bf6",
              "IPY_MODEL_32cf554bb5dd45298c89de818cad0300"
            ],
            "layout": "IPY_MODEL_d4c83d5c676a470aa5c012c11a115600"
          }
        },
        "ffafa4859e00443a95dc4de772b3e209": {
          "model_module": "@jupyter-widgets/controls",
          "model_name": "HTMLModel",
          "model_module_version": "1.5.0",
          "state": {
            "_dom_classes": [],
            "_model_module": "@jupyter-widgets/controls",
            "_model_module_version": "1.5.0",
            "_model_name": "HTMLModel",
            "_view_count": null,
            "_view_module": "@jupyter-widgets/controls",
            "_view_module_version": "1.5.0",
            "_view_name": "HTMLView",
            "description": "",
            "description_tooltip": null,
            "layout": "IPY_MODEL_dd854b7a6de643219be8ee1c36155427",
            "placeholder": "​",
            "style": "IPY_MODEL_11e58e05e03b40179ec478dfb5783837",
            "value": "Downloading (…)lve/main/config.json: 100%"
          }
        },
        "255ccb8e0a804e819a7628fb04c53bf6": {
          "model_module": "@jupyter-widgets/controls",
          "model_name": "FloatProgressModel",
          "model_module_version": "1.5.0",
          "state": {
            "_dom_classes": [],
            "_model_module": "@jupyter-widgets/controls",
            "_model_module_version": "1.5.0",
            "_model_name": "FloatProgressModel",
            "_view_count": null,
            "_view_module": "@jupyter-widgets/controls",
            "_view_module_version": "1.5.0",
            "_view_name": "ProgressView",
            "bar_style": "success",
            "description": "",
            "description_tooltip": null,
            "layout": "IPY_MODEL_b4f731d65a5c4e249caf2ca7e897c882",
            "max": 591,
            "min": 0,
            "orientation": "horizontal",
            "style": "IPY_MODEL_9354c0a118c04601bc902c227ed4ed5e",
            "value": 591
          }
        },
        "32cf554bb5dd45298c89de818cad0300": {
          "model_module": "@jupyter-widgets/controls",
          "model_name": "HTMLModel",
          "model_module_version": "1.5.0",
          "state": {
            "_dom_classes": [],
            "_model_module": "@jupyter-widgets/controls",
            "_model_module_version": "1.5.0",
            "_model_name": "HTMLModel",
            "_view_count": null,
            "_view_module": "@jupyter-widgets/controls",
            "_view_module_version": "1.5.0",
            "_view_name": "HTMLView",
            "description": "",
            "description_tooltip": null,
            "layout": "IPY_MODEL_1171a8053dc1478c8f1f76a26805df4e",
            "placeholder": "​",
            "style": "IPY_MODEL_69aa0be7013a430c96546446f4da8b2d",
            "value": " 591/591 [00:00&lt;00:00, 9.69kB/s]"
          }
        },
        "d4c83d5c676a470aa5c012c11a115600": {
          "model_module": "@jupyter-widgets/base",
          "model_name": "LayoutModel",
          "model_module_version": "1.2.0",
          "state": {
            "_model_module": "@jupyter-widgets/base",
            "_model_module_version": "1.2.0",
            "_model_name": "LayoutModel",
            "_view_count": null,
            "_view_module": "@jupyter-widgets/base",
            "_view_module_version": "1.2.0",
            "_view_name": "LayoutView",
            "align_content": null,
            "align_items": null,
            "align_self": null,
            "border": null,
            "bottom": null,
            "display": null,
            "flex": null,
            "flex_flow": null,
            "grid_area": null,
            "grid_auto_columns": null,
            "grid_auto_flow": null,
            "grid_auto_rows": null,
            "grid_column": null,
            "grid_gap": null,
            "grid_row": null,
            "grid_template_areas": null,
            "grid_template_columns": null,
            "grid_template_rows": null,
            "height": null,
            "justify_content": null,
            "justify_items": null,
            "left": null,
            "margin": null,
            "max_height": null,
            "max_width": null,
            "min_height": null,
            "min_width": null,
            "object_fit": null,
            "object_position": null,
            "order": null,
            "overflow": null,
            "overflow_x": null,
            "overflow_y": null,
            "padding": null,
            "right": null,
            "top": null,
            "visibility": null,
            "width": null
          }
        },
        "dd854b7a6de643219be8ee1c36155427": {
          "model_module": "@jupyter-widgets/base",
          "model_name": "LayoutModel",
          "model_module_version": "1.2.0",
          "state": {
            "_model_module": "@jupyter-widgets/base",
            "_model_module_version": "1.2.0",
            "_model_name": "LayoutModel",
            "_view_count": null,
            "_view_module": "@jupyter-widgets/base",
            "_view_module_version": "1.2.0",
            "_view_name": "LayoutView",
            "align_content": null,
            "align_items": null,
            "align_self": null,
            "border": null,
            "bottom": null,
            "display": null,
            "flex": null,
            "flex_flow": null,
            "grid_area": null,
            "grid_auto_columns": null,
            "grid_auto_flow": null,
            "grid_auto_rows": null,
            "grid_column": null,
            "grid_gap": null,
            "grid_row": null,
            "grid_template_areas": null,
            "grid_template_columns": null,
            "grid_template_rows": null,
            "height": null,
            "justify_content": null,
            "justify_items": null,
            "left": null,
            "margin": null,
            "max_height": null,
            "max_width": null,
            "min_height": null,
            "min_width": null,
            "object_fit": null,
            "object_position": null,
            "order": null,
            "overflow": null,
            "overflow_x": null,
            "overflow_y": null,
            "padding": null,
            "right": null,
            "top": null,
            "visibility": null,
            "width": null
          }
        },
        "11e58e05e03b40179ec478dfb5783837": {
          "model_module": "@jupyter-widgets/controls",
          "model_name": "DescriptionStyleModel",
          "model_module_version": "1.5.0",
          "state": {
            "_model_module": "@jupyter-widgets/controls",
            "_model_module_version": "1.5.0",
            "_model_name": "DescriptionStyleModel",
            "_view_count": null,
            "_view_module": "@jupyter-widgets/base",
            "_view_module_version": "1.2.0",
            "_view_name": "StyleView",
            "description_width": ""
          }
        },
        "b4f731d65a5c4e249caf2ca7e897c882": {
          "model_module": "@jupyter-widgets/base",
          "model_name": "LayoutModel",
          "model_module_version": "1.2.0",
          "state": {
            "_model_module": "@jupyter-widgets/base",
            "_model_module_version": "1.2.0",
            "_model_name": "LayoutModel",
            "_view_count": null,
            "_view_module": "@jupyter-widgets/base",
            "_view_module_version": "1.2.0",
            "_view_name": "LayoutView",
            "align_content": null,
            "align_items": null,
            "align_self": null,
            "border": null,
            "bottom": null,
            "display": null,
            "flex": null,
            "flex_flow": null,
            "grid_area": null,
            "grid_auto_columns": null,
            "grid_auto_flow": null,
            "grid_auto_rows": null,
            "grid_column": null,
            "grid_gap": null,
            "grid_row": null,
            "grid_template_areas": null,
            "grid_template_columns": null,
            "grid_template_rows": null,
            "height": null,
            "justify_content": null,
            "justify_items": null,
            "left": null,
            "margin": null,
            "max_height": null,
            "max_width": null,
            "min_height": null,
            "min_width": null,
            "object_fit": null,
            "object_position": null,
            "order": null,
            "overflow": null,
            "overflow_x": null,
            "overflow_y": null,
            "padding": null,
            "right": null,
            "top": null,
            "visibility": null,
            "width": null
          }
        },
        "9354c0a118c04601bc902c227ed4ed5e": {
          "model_module": "@jupyter-widgets/controls",
          "model_name": "ProgressStyleModel",
          "model_module_version": "1.5.0",
          "state": {
            "_model_module": "@jupyter-widgets/controls",
            "_model_module_version": "1.5.0",
            "_model_name": "ProgressStyleModel",
            "_view_count": null,
            "_view_module": "@jupyter-widgets/base",
            "_view_module_version": "1.2.0",
            "_view_name": "StyleView",
            "bar_color": null,
            "description_width": ""
          }
        },
        "1171a8053dc1478c8f1f76a26805df4e": {
          "model_module": "@jupyter-widgets/base",
          "model_name": "LayoutModel",
          "model_module_version": "1.2.0",
          "state": {
            "_model_module": "@jupyter-widgets/base",
            "_model_module_version": "1.2.0",
            "_model_name": "LayoutModel",
            "_view_count": null,
            "_view_module": "@jupyter-widgets/base",
            "_view_module_version": "1.2.0",
            "_view_name": "LayoutView",
            "align_content": null,
            "align_items": null,
            "align_self": null,
            "border": null,
            "bottom": null,
            "display": null,
            "flex": null,
            "flex_flow": null,
            "grid_area": null,
            "grid_auto_columns": null,
            "grid_auto_flow": null,
            "grid_auto_rows": null,
            "grid_column": null,
            "grid_gap": null,
            "grid_row": null,
            "grid_template_areas": null,
            "grid_template_columns": null,
            "grid_template_rows": null,
            "height": null,
            "justify_content": null,
            "justify_items": null,
            "left": null,
            "margin": null,
            "max_height": null,
            "max_width": null,
            "min_height": null,
            "min_width": null,
            "object_fit": null,
            "object_position": null,
            "order": null,
            "overflow": null,
            "overflow_x": null,
            "overflow_y": null,
            "padding": null,
            "right": null,
            "top": null,
            "visibility": null,
            "width": null
          }
        },
        "69aa0be7013a430c96546446f4da8b2d": {
          "model_module": "@jupyter-widgets/controls",
          "model_name": "DescriptionStyleModel",
          "model_module_version": "1.5.0",
          "state": {
            "_model_module": "@jupyter-widgets/controls",
            "_model_module_version": "1.5.0",
            "_model_name": "DescriptionStyleModel",
            "_view_count": null,
            "_view_module": "@jupyter-widgets/base",
            "_view_module_version": "1.2.0",
            "_view_name": "StyleView",
            "description_width": ""
          }
        },
        "357a3dae8ffe426190b823cbbf65a7ca": {
          "model_module": "@jupyter-widgets/controls",
          "model_name": "HBoxModel",
          "model_module_version": "1.5.0",
          "state": {
            "_dom_classes": [],
            "_model_module": "@jupyter-widgets/controls",
            "_model_module_version": "1.5.0",
            "_model_name": "HBoxModel",
            "_view_count": null,
            "_view_module": "@jupyter-widgets/controls",
            "_view_module_version": "1.5.0",
            "_view_name": "HBoxView",
            "box_style": "",
            "children": [
              "IPY_MODEL_592cd74bc0a6448e8e2f7553740812c6",
              "IPY_MODEL_0c20fb2e3050473f86223b19b5f13065",
              "IPY_MODEL_5b9775080437454eb8f9a01dfa5ebe28"
            ],
            "layout": "IPY_MODEL_9fcf2a0024b2491aa4b958fafd79730f"
          }
        },
        "592cd74bc0a6448e8e2f7553740812c6": {
          "model_module": "@jupyter-widgets/controls",
          "model_name": "HTMLModel",
          "model_module_version": "1.5.0",
          "state": {
            "_dom_classes": [],
            "_model_module": "@jupyter-widgets/controls",
            "_model_module_version": "1.5.0",
            "_model_name": "HTMLModel",
            "_view_count": null,
            "_view_module": "@jupyter-widgets/controls",
            "_view_module_version": "1.5.0",
            "_view_name": "HTMLView",
            "description": "",
            "description_tooltip": null,
            "layout": "IPY_MODEL_e69d07bd59164623b4a8a08fd1eacf75",
            "placeholder": "​",
            "style": "IPY_MODEL_a2a51ffc72e445c3859276f192984a4f",
            "value": "Downloading (…)solve/main/vocab.txt: 100%"
          }
        },
        "0c20fb2e3050473f86223b19b5f13065": {
          "model_module": "@jupyter-widgets/controls",
          "model_name": "FloatProgressModel",
          "model_module_version": "1.5.0",
          "state": {
            "_dom_classes": [],
            "_model_module": "@jupyter-widgets/controls",
            "_model_module_version": "1.5.0",
            "_model_name": "FloatProgressModel",
            "_view_count": null,
            "_view_module": "@jupyter-widgets/controls",
            "_view_module_version": "1.5.0",
            "_view_name": "ProgressView",
            "bar_style": "success",
            "description": "",
            "description_tooltip": null,
            "layout": "IPY_MODEL_55e78a4cb68a418c864fe0957be4ba07",
            "max": 263327,
            "min": 0,
            "orientation": "horizontal",
            "style": "IPY_MODEL_f1aa5e08d78647549849f28f507c194e",
            "value": 263327
          }
        },
        "5b9775080437454eb8f9a01dfa5ebe28": {
          "model_module": "@jupyter-widgets/controls",
          "model_name": "HTMLModel",
          "model_module_version": "1.5.0",
          "state": {
            "_dom_classes": [],
            "_model_module": "@jupyter-widgets/controls",
            "_model_module_version": "1.5.0",
            "_model_name": "HTMLModel",
            "_view_count": null,
            "_view_module": "@jupyter-widgets/controls",
            "_view_module_version": "1.5.0",
            "_view_name": "HTMLView",
            "description": "",
            "description_tooltip": null,
            "layout": "IPY_MODEL_a968b8446bb640ff93d1936f86c3483d",
            "placeholder": "​",
            "style": "IPY_MODEL_c33df9f8032a442ab287d3d1ac5de103",
            "value": " 263k/263k [00:00&lt;00:00, 2.18MB/s]"
          }
        },
        "9fcf2a0024b2491aa4b958fafd79730f": {
          "model_module": "@jupyter-widgets/base",
          "model_name": "LayoutModel",
          "model_module_version": "1.2.0",
          "state": {
            "_model_module": "@jupyter-widgets/base",
            "_model_module_version": "1.2.0",
            "_model_name": "LayoutModel",
            "_view_count": null,
            "_view_module": "@jupyter-widgets/base",
            "_view_module_version": "1.2.0",
            "_view_name": "LayoutView",
            "align_content": null,
            "align_items": null,
            "align_self": null,
            "border": null,
            "bottom": null,
            "display": null,
            "flex": null,
            "flex_flow": null,
            "grid_area": null,
            "grid_auto_columns": null,
            "grid_auto_flow": null,
            "grid_auto_rows": null,
            "grid_column": null,
            "grid_gap": null,
            "grid_row": null,
            "grid_template_areas": null,
            "grid_template_columns": null,
            "grid_template_rows": null,
            "height": null,
            "justify_content": null,
            "justify_items": null,
            "left": null,
            "margin": null,
            "max_height": null,
            "max_width": null,
            "min_height": null,
            "min_width": null,
            "object_fit": null,
            "object_position": null,
            "order": null,
            "overflow": null,
            "overflow_x": null,
            "overflow_y": null,
            "padding": null,
            "right": null,
            "top": null,
            "visibility": null,
            "width": null
          }
        },
        "e69d07bd59164623b4a8a08fd1eacf75": {
          "model_module": "@jupyter-widgets/base",
          "model_name": "LayoutModel",
          "model_module_version": "1.2.0",
          "state": {
            "_model_module": "@jupyter-widgets/base",
            "_model_module_version": "1.2.0",
            "_model_name": "LayoutModel",
            "_view_count": null,
            "_view_module": "@jupyter-widgets/base",
            "_view_module_version": "1.2.0",
            "_view_name": "LayoutView",
            "align_content": null,
            "align_items": null,
            "align_self": null,
            "border": null,
            "bottom": null,
            "display": null,
            "flex": null,
            "flex_flow": null,
            "grid_area": null,
            "grid_auto_columns": null,
            "grid_auto_flow": null,
            "grid_auto_rows": null,
            "grid_column": null,
            "grid_gap": null,
            "grid_row": null,
            "grid_template_areas": null,
            "grid_template_columns": null,
            "grid_template_rows": null,
            "height": null,
            "justify_content": null,
            "justify_items": null,
            "left": null,
            "margin": null,
            "max_height": null,
            "max_width": null,
            "min_height": null,
            "min_width": null,
            "object_fit": null,
            "object_position": null,
            "order": null,
            "overflow": null,
            "overflow_x": null,
            "overflow_y": null,
            "padding": null,
            "right": null,
            "top": null,
            "visibility": null,
            "width": null
          }
        },
        "a2a51ffc72e445c3859276f192984a4f": {
          "model_module": "@jupyter-widgets/controls",
          "model_name": "DescriptionStyleModel",
          "model_module_version": "1.5.0",
          "state": {
            "_model_module": "@jupyter-widgets/controls",
            "_model_module_version": "1.5.0",
            "_model_name": "DescriptionStyleModel",
            "_view_count": null,
            "_view_module": "@jupyter-widgets/base",
            "_view_module_version": "1.2.0",
            "_view_name": "StyleView",
            "description_width": ""
          }
        },
        "55e78a4cb68a418c864fe0957be4ba07": {
          "model_module": "@jupyter-widgets/base",
          "model_name": "LayoutModel",
          "model_module_version": "1.2.0",
          "state": {
            "_model_module": "@jupyter-widgets/base",
            "_model_module_version": "1.2.0",
            "_model_name": "LayoutModel",
            "_view_count": null,
            "_view_module": "@jupyter-widgets/base",
            "_view_module_version": "1.2.0",
            "_view_name": "LayoutView",
            "align_content": null,
            "align_items": null,
            "align_self": null,
            "border": null,
            "bottom": null,
            "display": null,
            "flex": null,
            "flex_flow": null,
            "grid_area": null,
            "grid_auto_columns": null,
            "grid_auto_flow": null,
            "grid_auto_rows": null,
            "grid_column": null,
            "grid_gap": null,
            "grid_row": null,
            "grid_template_areas": null,
            "grid_template_columns": null,
            "grid_template_rows": null,
            "height": null,
            "justify_content": null,
            "justify_items": null,
            "left": null,
            "margin": null,
            "max_height": null,
            "max_width": null,
            "min_height": null,
            "min_width": null,
            "object_fit": null,
            "object_position": null,
            "order": null,
            "overflow": null,
            "overflow_x": null,
            "overflow_y": null,
            "padding": null,
            "right": null,
            "top": null,
            "visibility": null,
            "width": null
          }
        },
        "f1aa5e08d78647549849f28f507c194e": {
          "model_module": "@jupyter-widgets/controls",
          "model_name": "ProgressStyleModel",
          "model_module_version": "1.5.0",
          "state": {
            "_model_module": "@jupyter-widgets/controls",
            "_model_module_version": "1.5.0",
            "_model_name": "ProgressStyleModel",
            "_view_count": null,
            "_view_module": "@jupyter-widgets/base",
            "_view_module_version": "1.2.0",
            "_view_name": "StyleView",
            "bar_color": null,
            "description_width": ""
          }
        },
        "a968b8446bb640ff93d1936f86c3483d": {
          "model_module": "@jupyter-widgets/base",
          "model_name": "LayoutModel",
          "model_module_version": "1.2.0",
          "state": {
            "_model_module": "@jupyter-widgets/base",
            "_model_module_version": "1.2.0",
            "_model_name": "LayoutModel",
            "_view_count": null,
            "_view_module": "@jupyter-widgets/base",
            "_view_module_version": "1.2.0",
            "_view_name": "LayoutView",
            "align_content": null,
            "align_items": null,
            "align_self": null,
            "border": null,
            "bottom": null,
            "display": null,
            "flex": null,
            "flex_flow": null,
            "grid_area": null,
            "grid_auto_columns": null,
            "grid_auto_flow": null,
            "grid_auto_rows": null,
            "grid_column": null,
            "grid_gap": null,
            "grid_row": null,
            "grid_template_areas": null,
            "grid_template_columns": null,
            "grid_template_rows": null,
            "height": null,
            "justify_content": null,
            "justify_items": null,
            "left": null,
            "margin": null,
            "max_height": null,
            "max_width": null,
            "min_height": null,
            "min_width": null,
            "object_fit": null,
            "object_position": null,
            "order": null,
            "overflow": null,
            "overflow_x": null,
            "overflow_y": null,
            "padding": null,
            "right": null,
            "top": null,
            "visibility": null,
            "width": null
          }
        },
        "c33df9f8032a442ab287d3d1ac5de103": {
          "model_module": "@jupyter-widgets/controls",
          "model_name": "DescriptionStyleModel",
          "model_module_version": "1.5.0",
          "state": {
            "_model_module": "@jupyter-widgets/controls",
            "_model_module_version": "1.5.0",
            "_model_name": "DescriptionStyleModel",
            "_view_count": null,
            "_view_module": "@jupyter-widgets/base",
            "_view_module_version": "1.2.0",
            "_view_name": "StyleView",
            "description_width": ""
          }
        },
        "f67b40671951435884cb49f79606687b": {
          "model_module": "@jupyter-widgets/controls",
          "model_name": "HBoxModel",
          "model_module_version": "1.5.0",
          "state": {
            "_dom_classes": [],
            "_model_module": "@jupyter-widgets/controls",
            "_model_module_version": "1.5.0",
            "_model_name": "HBoxModel",
            "_view_count": null,
            "_view_module": "@jupyter-widgets/controls",
            "_view_module_version": "1.5.0",
            "_view_name": "HBoxView",
            "box_style": "",
            "children": [
              "IPY_MODEL_cb7a0526d6b04f27905a49bea7255237",
              "IPY_MODEL_441f920f9cdd48c5baca8d4bd0d39dce",
              "IPY_MODEL_692b9000156b4f3d99bce71eced0ff82"
            ],
            "layout": "IPY_MODEL_bf4d5c39ed1e4974a191aedf631e1d1a"
          }
        },
        "cb7a0526d6b04f27905a49bea7255237": {
          "model_module": "@jupyter-widgets/controls",
          "model_name": "HTMLModel",
          "model_module_version": "1.5.0",
          "state": {
            "_dom_classes": [],
            "_model_module": "@jupyter-widgets/controls",
            "_model_module_version": "1.5.0",
            "_model_name": "HTMLModel",
            "_view_count": null,
            "_view_module": "@jupyter-widgets/controls",
            "_view_module_version": "1.5.0",
            "_view_name": "HTMLView",
            "description": "",
            "description_tooltip": null,
            "layout": "IPY_MODEL_ccd0b4bcbc414412896ef74f3aed54fa",
            "placeholder": "​",
            "style": "IPY_MODEL_afa19a6b07c24aabbe5f795eadc102ac",
            "value": "Downloading (…)cial_tokens_map.json: 100%"
          }
        },
        "441f920f9cdd48c5baca8d4bd0d39dce": {
          "model_module": "@jupyter-widgets/controls",
          "model_name": "FloatProgressModel",
          "model_module_version": "1.5.0",
          "state": {
            "_dom_classes": [],
            "_model_module": "@jupyter-widgets/controls",
            "_model_module_version": "1.5.0",
            "_model_name": "FloatProgressModel",
            "_view_count": null,
            "_view_module": "@jupyter-widgets/controls",
            "_view_module_version": "1.5.0",
            "_view_name": "ProgressView",
            "bar_style": "success",
            "description": "",
            "description_tooltip": null,
            "layout": "IPY_MODEL_65d24fb513cc4e4d97fb8aad341428f9",
            "max": 112,
            "min": 0,
            "orientation": "horizontal",
            "style": "IPY_MODEL_93416dbeb19e42ff9ecb136bb9e7a193",
            "value": 112
          }
        },
        "692b9000156b4f3d99bce71eced0ff82": {
          "model_module": "@jupyter-widgets/controls",
          "model_name": "HTMLModel",
          "model_module_version": "1.5.0",
          "state": {
            "_dom_classes": [],
            "_model_module": "@jupyter-widgets/controls",
            "_model_module_version": "1.5.0",
            "_model_name": "HTMLModel",
            "_view_count": null,
            "_view_module": "@jupyter-widgets/controls",
            "_view_module_version": "1.5.0",
            "_view_name": "HTMLView",
            "description": "",
            "description_tooltip": null,
            "layout": "IPY_MODEL_68edb8de50f54b5a8258a959b081ec5c",
            "placeholder": "​",
            "style": "IPY_MODEL_74ef41daf97d47b7bdcb118105d568a9",
            "value": " 112/112 [00:00&lt;00:00, 3.47kB/s]"
          }
        },
        "bf4d5c39ed1e4974a191aedf631e1d1a": {
          "model_module": "@jupyter-widgets/base",
          "model_name": "LayoutModel",
          "model_module_version": "1.2.0",
          "state": {
            "_model_module": "@jupyter-widgets/base",
            "_model_module_version": "1.2.0",
            "_model_name": "LayoutModel",
            "_view_count": null,
            "_view_module": "@jupyter-widgets/base",
            "_view_module_version": "1.2.0",
            "_view_name": "LayoutView",
            "align_content": null,
            "align_items": null,
            "align_self": null,
            "border": null,
            "bottom": null,
            "display": null,
            "flex": null,
            "flex_flow": null,
            "grid_area": null,
            "grid_auto_columns": null,
            "grid_auto_flow": null,
            "grid_auto_rows": null,
            "grid_column": null,
            "grid_gap": null,
            "grid_row": null,
            "grid_template_areas": null,
            "grid_template_columns": null,
            "grid_template_rows": null,
            "height": null,
            "justify_content": null,
            "justify_items": null,
            "left": null,
            "margin": null,
            "max_height": null,
            "max_width": null,
            "min_height": null,
            "min_width": null,
            "object_fit": null,
            "object_position": null,
            "order": null,
            "overflow": null,
            "overflow_x": null,
            "overflow_y": null,
            "padding": null,
            "right": null,
            "top": null,
            "visibility": null,
            "width": null
          }
        },
        "ccd0b4bcbc414412896ef74f3aed54fa": {
          "model_module": "@jupyter-widgets/base",
          "model_name": "LayoutModel",
          "model_module_version": "1.2.0",
          "state": {
            "_model_module": "@jupyter-widgets/base",
            "_model_module_version": "1.2.0",
            "_model_name": "LayoutModel",
            "_view_count": null,
            "_view_module": "@jupyter-widgets/base",
            "_view_module_version": "1.2.0",
            "_view_name": "LayoutView",
            "align_content": null,
            "align_items": null,
            "align_self": null,
            "border": null,
            "bottom": null,
            "display": null,
            "flex": null,
            "flex_flow": null,
            "grid_area": null,
            "grid_auto_columns": null,
            "grid_auto_flow": null,
            "grid_auto_rows": null,
            "grid_column": null,
            "grid_gap": null,
            "grid_row": null,
            "grid_template_areas": null,
            "grid_template_columns": null,
            "grid_template_rows": null,
            "height": null,
            "justify_content": null,
            "justify_items": null,
            "left": null,
            "margin": null,
            "max_height": null,
            "max_width": null,
            "min_height": null,
            "min_width": null,
            "object_fit": null,
            "object_position": null,
            "order": null,
            "overflow": null,
            "overflow_x": null,
            "overflow_y": null,
            "padding": null,
            "right": null,
            "top": null,
            "visibility": null,
            "width": null
          }
        },
        "afa19a6b07c24aabbe5f795eadc102ac": {
          "model_module": "@jupyter-widgets/controls",
          "model_name": "DescriptionStyleModel",
          "model_module_version": "1.5.0",
          "state": {
            "_model_module": "@jupyter-widgets/controls",
            "_model_module_version": "1.5.0",
            "_model_name": "DescriptionStyleModel",
            "_view_count": null,
            "_view_module": "@jupyter-widgets/base",
            "_view_module_version": "1.2.0",
            "_view_name": "StyleView",
            "description_width": ""
          }
        },
        "65d24fb513cc4e4d97fb8aad341428f9": {
          "model_module": "@jupyter-widgets/base",
          "model_name": "LayoutModel",
          "model_module_version": "1.2.0",
          "state": {
            "_model_module": "@jupyter-widgets/base",
            "_model_module_version": "1.2.0",
            "_model_name": "LayoutModel",
            "_view_count": null,
            "_view_module": "@jupyter-widgets/base",
            "_view_module_version": "1.2.0",
            "_view_name": "LayoutView",
            "align_content": null,
            "align_items": null,
            "align_self": null,
            "border": null,
            "bottom": null,
            "display": null,
            "flex": null,
            "flex_flow": null,
            "grid_area": null,
            "grid_auto_columns": null,
            "grid_auto_flow": null,
            "grid_auto_rows": null,
            "grid_column": null,
            "grid_gap": null,
            "grid_row": null,
            "grid_template_areas": null,
            "grid_template_columns": null,
            "grid_template_rows": null,
            "height": null,
            "justify_content": null,
            "justify_items": null,
            "left": null,
            "margin": null,
            "max_height": null,
            "max_width": null,
            "min_height": null,
            "min_width": null,
            "object_fit": null,
            "object_position": null,
            "order": null,
            "overflow": null,
            "overflow_x": null,
            "overflow_y": null,
            "padding": null,
            "right": null,
            "top": null,
            "visibility": null,
            "width": null
          }
        },
        "93416dbeb19e42ff9ecb136bb9e7a193": {
          "model_module": "@jupyter-widgets/controls",
          "model_name": "ProgressStyleModel",
          "model_module_version": "1.5.0",
          "state": {
            "_model_module": "@jupyter-widgets/controls",
            "_model_module_version": "1.5.0",
            "_model_name": "ProgressStyleModel",
            "_view_count": null,
            "_view_module": "@jupyter-widgets/base",
            "_view_module_version": "1.2.0",
            "_view_name": "StyleView",
            "bar_color": null,
            "description_width": ""
          }
        },
        "68edb8de50f54b5a8258a959b081ec5c": {
          "model_module": "@jupyter-widgets/base",
          "model_name": "LayoutModel",
          "model_module_version": "1.2.0",
          "state": {
            "_model_module": "@jupyter-widgets/base",
            "_model_module_version": "1.2.0",
            "_model_name": "LayoutModel",
            "_view_count": null,
            "_view_module": "@jupyter-widgets/base",
            "_view_module_version": "1.2.0",
            "_view_name": "LayoutView",
            "align_content": null,
            "align_items": null,
            "align_self": null,
            "border": null,
            "bottom": null,
            "display": null,
            "flex": null,
            "flex_flow": null,
            "grid_area": null,
            "grid_auto_columns": null,
            "grid_auto_flow": null,
            "grid_auto_rows": null,
            "grid_column": null,
            "grid_gap": null,
            "grid_row": null,
            "grid_template_areas": null,
            "grid_template_columns": null,
            "grid_template_rows": null,
            "height": null,
            "justify_content": null,
            "justify_items": null,
            "left": null,
            "margin": null,
            "max_height": null,
            "max_width": null,
            "min_height": null,
            "min_width": null,
            "object_fit": null,
            "object_position": null,
            "order": null,
            "overflow": null,
            "overflow_x": null,
            "overflow_y": null,
            "padding": null,
            "right": null,
            "top": null,
            "visibility": null,
            "width": null
          }
        },
        "74ef41daf97d47b7bdcb118105d568a9": {
          "model_module": "@jupyter-widgets/controls",
          "model_name": "DescriptionStyleModel",
          "model_module_version": "1.5.0",
          "state": {
            "_model_module": "@jupyter-widgets/controls",
            "_model_module_version": "1.5.0",
            "_model_name": "DescriptionStyleModel",
            "_view_count": null,
            "_view_module": "@jupyter-widgets/base",
            "_view_module_version": "1.2.0",
            "_view_name": "StyleView",
            "description_width": ""
          }
        },
        "054e26286dcc44c999008c097c648a8c": {
          "model_module": "@jupyter-widgets/controls",
          "model_name": "HBoxModel",
          "model_module_version": "1.5.0",
          "state": {
            "_dom_classes": [],
            "_model_module": "@jupyter-widgets/controls",
            "_model_module_version": "1.5.0",
            "_model_name": "HBoxModel",
            "_view_count": null,
            "_view_module": "@jupyter-widgets/controls",
            "_view_module_version": "1.5.0",
            "_view_name": "HBoxView",
            "box_style": "",
            "children": [
              "IPY_MODEL_a2033cdd93b34c9f9a5a4dbe1105005f",
              "IPY_MODEL_fe81df56090e493d9a94a0d34d98980f",
              "IPY_MODEL_12b1d86413084ff789329d2622480165"
            ],
            "layout": "IPY_MODEL_01ebd9613af84a0f99858aa66dbe0444"
          }
        },
        "a2033cdd93b34c9f9a5a4dbe1105005f": {
          "model_module": "@jupyter-widgets/controls",
          "model_name": "HTMLModel",
          "model_module_version": "1.5.0",
          "state": {
            "_dom_classes": [],
            "_model_module": "@jupyter-widgets/controls",
            "_model_module_version": "1.5.0",
            "_model_name": "HTMLModel",
            "_view_count": null,
            "_view_module": "@jupyter-widgets/controls",
            "_view_module_version": "1.5.0",
            "_view_name": "HTMLView",
            "description": "",
            "description_tooltip": null,
            "layout": "IPY_MODEL_80a3effea45f4c218a1ed5367ef86e3f",
            "placeholder": "​",
            "style": "IPY_MODEL_4907534738ed4fbfb55dec995d2b08a7",
            "value": "Downloading model.safetensors: 100%"
          }
        },
        "fe81df56090e493d9a94a0d34d98980f": {
          "model_module": "@jupyter-widgets/controls",
          "model_name": "FloatProgressModel",
          "model_module_version": "1.5.0",
          "state": {
            "_dom_classes": [],
            "_model_module": "@jupyter-widgets/controls",
            "_model_module_version": "1.5.0",
            "_model_name": "FloatProgressModel",
            "_view_count": null,
            "_view_module": "@jupyter-widgets/controls",
            "_view_module_version": "1.5.0",
            "_view_name": "ProgressView",
            "bar_style": "success",
            "description": "",
            "description_tooltip": null,
            "layout": "IPY_MODEL_81e99011032c4de7aa960be8bf95ea99",
            "max": 449357300,
            "min": 0,
            "orientation": "horizontal",
            "style": "IPY_MODEL_38abecf9d9ec45cb9e7781e1f6d53c15",
            "value": 449357300
          }
        },
        "12b1d86413084ff789329d2622480165": {
          "model_module": "@jupyter-widgets/controls",
          "model_name": "HTMLModel",
          "model_module_version": "1.5.0",
          "state": {
            "_dom_classes": [],
            "_model_module": "@jupyter-widgets/controls",
            "_model_module_version": "1.5.0",
            "_model_name": "HTMLModel",
            "_view_count": null,
            "_view_module": "@jupyter-widgets/controls",
            "_view_module_version": "1.5.0",
            "_view_name": "HTMLView",
            "description": "",
            "description_tooltip": null,
            "layout": "IPY_MODEL_2608a759ac864e80937138a409ba8d31",
            "placeholder": "​",
            "style": "IPY_MODEL_faf1223483b947a0863e030e2284769d",
            "value": " 449M/449M [00:07&lt;00:00, 53.6MB/s]"
          }
        },
        "01ebd9613af84a0f99858aa66dbe0444": {
          "model_module": "@jupyter-widgets/base",
          "model_name": "LayoutModel",
          "model_module_version": "1.2.0",
          "state": {
            "_model_module": "@jupyter-widgets/base",
            "_model_module_version": "1.2.0",
            "_model_name": "LayoutModel",
            "_view_count": null,
            "_view_module": "@jupyter-widgets/base",
            "_view_module_version": "1.2.0",
            "_view_name": "LayoutView",
            "align_content": null,
            "align_items": null,
            "align_self": null,
            "border": null,
            "bottom": null,
            "display": null,
            "flex": null,
            "flex_flow": null,
            "grid_area": null,
            "grid_auto_columns": null,
            "grid_auto_flow": null,
            "grid_auto_rows": null,
            "grid_column": null,
            "grid_gap": null,
            "grid_row": null,
            "grid_template_areas": null,
            "grid_template_columns": null,
            "grid_template_rows": null,
            "height": null,
            "justify_content": null,
            "justify_items": null,
            "left": null,
            "margin": null,
            "max_height": null,
            "max_width": null,
            "min_height": null,
            "min_width": null,
            "object_fit": null,
            "object_position": null,
            "order": null,
            "overflow": null,
            "overflow_x": null,
            "overflow_y": null,
            "padding": null,
            "right": null,
            "top": null,
            "visibility": null,
            "width": null
          }
        },
        "80a3effea45f4c218a1ed5367ef86e3f": {
          "model_module": "@jupyter-widgets/base",
          "model_name": "LayoutModel",
          "model_module_version": "1.2.0",
          "state": {
            "_model_module": "@jupyter-widgets/base",
            "_model_module_version": "1.2.0",
            "_model_name": "LayoutModel",
            "_view_count": null,
            "_view_module": "@jupyter-widgets/base",
            "_view_module_version": "1.2.0",
            "_view_name": "LayoutView",
            "align_content": null,
            "align_items": null,
            "align_self": null,
            "border": null,
            "bottom": null,
            "display": null,
            "flex": null,
            "flex_flow": null,
            "grid_area": null,
            "grid_auto_columns": null,
            "grid_auto_flow": null,
            "grid_auto_rows": null,
            "grid_column": null,
            "grid_gap": null,
            "grid_row": null,
            "grid_template_areas": null,
            "grid_template_columns": null,
            "grid_template_rows": null,
            "height": null,
            "justify_content": null,
            "justify_items": null,
            "left": null,
            "margin": null,
            "max_height": null,
            "max_width": null,
            "min_height": null,
            "min_width": null,
            "object_fit": null,
            "object_position": null,
            "order": null,
            "overflow": null,
            "overflow_x": null,
            "overflow_y": null,
            "padding": null,
            "right": null,
            "top": null,
            "visibility": null,
            "width": null
          }
        },
        "4907534738ed4fbfb55dec995d2b08a7": {
          "model_module": "@jupyter-widgets/controls",
          "model_name": "DescriptionStyleModel",
          "model_module_version": "1.5.0",
          "state": {
            "_model_module": "@jupyter-widgets/controls",
            "_model_module_version": "1.5.0",
            "_model_name": "DescriptionStyleModel",
            "_view_count": null,
            "_view_module": "@jupyter-widgets/base",
            "_view_module_version": "1.2.0",
            "_view_name": "StyleView",
            "description_width": ""
          }
        },
        "81e99011032c4de7aa960be8bf95ea99": {
          "model_module": "@jupyter-widgets/base",
          "model_name": "LayoutModel",
          "model_module_version": "1.2.0",
          "state": {
            "_model_module": "@jupyter-widgets/base",
            "_model_module_version": "1.2.0",
            "_model_name": "LayoutModel",
            "_view_count": null,
            "_view_module": "@jupyter-widgets/base",
            "_view_module_version": "1.2.0",
            "_view_name": "LayoutView",
            "align_content": null,
            "align_items": null,
            "align_self": null,
            "border": null,
            "bottom": null,
            "display": null,
            "flex": null,
            "flex_flow": null,
            "grid_area": null,
            "grid_auto_columns": null,
            "grid_auto_flow": null,
            "grid_auto_rows": null,
            "grid_column": null,
            "grid_gap": null,
            "grid_row": null,
            "grid_template_areas": null,
            "grid_template_columns": null,
            "grid_template_rows": null,
            "height": null,
            "justify_content": null,
            "justify_items": null,
            "left": null,
            "margin": null,
            "max_height": null,
            "max_width": null,
            "min_height": null,
            "min_width": null,
            "object_fit": null,
            "object_position": null,
            "order": null,
            "overflow": null,
            "overflow_x": null,
            "overflow_y": null,
            "padding": null,
            "right": null,
            "top": null,
            "visibility": null,
            "width": null
          }
        },
        "38abecf9d9ec45cb9e7781e1f6d53c15": {
          "model_module": "@jupyter-widgets/controls",
          "model_name": "ProgressStyleModel",
          "model_module_version": "1.5.0",
          "state": {
            "_model_module": "@jupyter-widgets/controls",
            "_model_module_version": "1.5.0",
            "_model_name": "ProgressStyleModel",
            "_view_count": null,
            "_view_module": "@jupyter-widgets/base",
            "_view_module_version": "1.2.0",
            "_view_name": "StyleView",
            "bar_color": null,
            "description_width": ""
          }
        },
        "2608a759ac864e80937138a409ba8d31": {
          "model_module": "@jupyter-widgets/base",
          "model_name": "LayoutModel",
          "model_module_version": "1.2.0",
          "state": {
            "_model_module": "@jupyter-widgets/base",
            "_model_module_version": "1.2.0",
            "_model_name": "LayoutModel",
            "_view_count": null,
            "_view_module": "@jupyter-widgets/base",
            "_view_module_version": "1.2.0",
            "_view_name": "LayoutView",
            "align_content": null,
            "align_items": null,
            "align_self": null,
            "border": null,
            "bottom": null,
            "display": null,
            "flex": null,
            "flex_flow": null,
            "grid_area": null,
            "grid_auto_columns": null,
            "grid_auto_flow": null,
            "grid_auto_rows": null,
            "grid_column": null,
            "grid_gap": null,
            "grid_row": null,
            "grid_template_areas": null,
            "grid_template_columns": null,
            "grid_template_rows": null,
            "height": null,
            "justify_content": null,
            "justify_items": null,
            "left": null,
            "margin": null,
            "max_height": null,
            "max_width": null,
            "min_height": null,
            "min_width": null,
            "object_fit": null,
            "object_position": null,
            "order": null,
            "overflow": null,
            "overflow_x": null,
            "overflow_y": null,
            "padding": null,
            "right": null,
            "top": null,
            "visibility": null,
            "width": null
          }
        },
        "faf1223483b947a0863e030e2284769d": {
          "model_module": "@jupyter-widgets/controls",
          "model_name": "DescriptionStyleModel",
          "model_module_version": "1.5.0",
          "state": {
            "_model_module": "@jupyter-widgets/controls",
            "_model_module_version": "1.5.0",
            "_model_name": "DescriptionStyleModel",
            "_view_count": null,
            "_view_module": "@jupyter-widgets/base",
            "_view_module_version": "1.2.0",
            "_view_name": "StyleView",
            "description_width": ""
          }
        },
        "561598cd48bc471abca60d86c039a6ba": {
          "model_module": "@jupyter-widgets/controls",
          "model_name": "HBoxModel",
          "model_module_version": "1.5.0",
          "state": {
            "_dom_classes": [],
            "_model_module": "@jupyter-widgets/controls",
            "_model_module_version": "1.5.0",
            "_model_name": "HBoxModel",
            "_view_count": null,
            "_view_module": "@jupyter-widgets/controls",
            "_view_module_version": "1.5.0",
            "_view_name": "HBoxView",
            "box_style": "",
            "children": [
              "IPY_MODEL_29a48bfda6534985b77ada05dd12d680",
              "IPY_MODEL_47428b27aec641abb871d0e8815fd42d",
              "IPY_MODEL_c527f6ef627347e69446dbf390d90c16"
            ],
            "layout": "IPY_MODEL_c6afe1e350da489896a5d0e5ac6607c8"
          }
        },
        "29a48bfda6534985b77ada05dd12d680": {
          "model_module": "@jupyter-widgets/controls",
          "model_name": "HTMLModel",
          "model_module_version": "1.5.0",
          "state": {
            "_dom_classes": [],
            "_model_module": "@jupyter-widgets/controls",
            "_model_module_version": "1.5.0",
            "_model_name": "HTMLModel",
            "_view_count": null,
            "_view_module": "@jupyter-widgets/controls",
            "_view_module_version": "1.5.0",
            "_view_name": "HTMLView",
            "description": "",
            "description_tooltip": null,
            "layout": "IPY_MODEL_c0c073842693445394ce79a97627a4e4",
            "placeholder": "​",
            "style": "IPY_MODEL_7b845af813c241848d53e61fa6d33213",
            "value": "100%"
          }
        },
        "47428b27aec641abb871d0e8815fd42d": {
          "model_module": "@jupyter-widgets/controls",
          "model_name": "FloatProgressModel",
          "model_module_version": "1.5.0",
          "state": {
            "_dom_classes": [],
            "_model_module": "@jupyter-widgets/controls",
            "_model_module_version": "1.5.0",
            "_model_name": "FloatProgressModel",
            "_view_count": null,
            "_view_module": "@jupyter-widgets/controls",
            "_view_module_version": "1.5.0",
            "_view_name": "ProgressView",
            "bar_style": "success",
            "description": "",
            "description_tooltip": null,
            "layout": "IPY_MODEL_56c9de5fa2c44eac9843bf12898955e2",
            "max": 1796916890,
            "min": 0,
            "orientation": "horizontal",
            "style": "IPY_MODEL_6837d29b10bb47e8bee9097c94cb9a12",
            "value": 1796916890
          }
        },
        "c527f6ef627347e69446dbf390d90c16": {
          "model_module": "@jupyter-widgets/controls",
          "model_name": "HTMLModel",
          "model_module_version": "1.5.0",
          "state": {
            "_dom_classes": [],
            "_model_module": "@jupyter-widgets/controls",
            "_model_module_version": "1.5.0",
            "_model_name": "HTMLModel",
            "_view_count": null,
            "_view_module": "@jupyter-widgets/controls",
            "_view_module_version": "1.5.0",
            "_view_name": "HTMLView",
            "description": "",
            "description_tooltip": null,
            "layout": "IPY_MODEL_25f22f3f851d427fb258ade758923381",
            "placeholder": "​",
            "style": "IPY_MODEL_cd9ed08257f64fa091e5c1c294fb0648",
            "value": " 1.80G/1.80G [01:16&lt;00:00, 28.9MB/s]"
          }
        },
        "c6afe1e350da489896a5d0e5ac6607c8": {
          "model_module": "@jupyter-widgets/base",
          "model_name": "LayoutModel",
          "model_module_version": "1.2.0",
          "state": {
            "_model_module": "@jupyter-widgets/base",
            "_model_module_version": "1.2.0",
            "_model_name": "LayoutModel",
            "_view_count": null,
            "_view_module": "@jupyter-widgets/base",
            "_view_module_version": "1.2.0",
            "_view_name": "LayoutView",
            "align_content": null,
            "align_items": null,
            "align_self": null,
            "border": null,
            "bottom": null,
            "display": null,
            "flex": null,
            "flex_flow": null,
            "grid_area": null,
            "grid_auto_columns": null,
            "grid_auto_flow": null,
            "grid_auto_rows": null,
            "grid_column": null,
            "grid_gap": null,
            "grid_row": null,
            "grid_template_areas": null,
            "grid_template_columns": null,
            "grid_template_rows": null,
            "height": null,
            "justify_content": null,
            "justify_items": null,
            "left": null,
            "margin": null,
            "max_height": null,
            "max_width": null,
            "min_height": null,
            "min_width": null,
            "object_fit": null,
            "object_position": null,
            "order": null,
            "overflow": null,
            "overflow_x": null,
            "overflow_y": null,
            "padding": null,
            "right": null,
            "top": null,
            "visibility": null,
            "width": null
          }
        },
        "c0c073842693445394ce79a97627a4e4": {
          "model_module": "@jupyter-widgets/base",
          "model_name": "LayoutModel",
          "model_module_version": "1.2.0",
          "state": {
            "_model_module": "@jupyter-widgets/base",
            "_model_module_version": "1.2.0",
            "_model_name": "LayoutModel",
            "_view_count": null,
            "_view_module": "@jupyter-widgets/base",
            "_view_module_version": "1.2.0",
            "_view_name": "LayoutView",
            "align_content": null,
            "align_items": null,
            "align_self": null,
            "border": null,
            "bottom": null,
            "display": null,
            "flex": null,
            "flex_flow": null,
            "grid_area": null,
            "grid_auto_columns": null,
            "grid_auto_flow": null,
            "grid_auto_rows": null,
            "grid_column": null,
            "grid_gap": null,
            "grid_row": null,
            "grid_template_areas": null,
            "grid_template_columns": null,
            "grid_template_rows": null,
            "height": null,
            "justify_content": null,
            "justify_items": null,
            "left": null,
            "margin": null,
            "max_height": null,
            "max_width": null,
            "min_height": null,
            "min_width": null,
            "object_fit": null,
            "object_position": null,
            "order": null,
            "overflow": null,
            "overflow_x": null,
            "overflow_y": null,
            "padding": null,
            "right": null,
            "top": null,
            "visibility": null,
            "width": null
          }
        },
        "7b845af813c241848d53e61fa6d33213": {
          "model_module": "@jupyter-widgets/controls",
          "model_name": "DescriptionStyleModel",
          "model_module_version": "1.5.0",
          "state": {
            "_model_module": "@jupyter-widgets/controls",
            "_model_module_version": "1.5.0",
            "_model_name": "DescriptionStyleModel",
            "_view_count": null,
            "_view_module": "@jupyter-widgets/base",
            "_view_module_version": "1.2.0",
            "_view_name": "StyleView",
            "description_width": ""
          }
        },
        "56c9de5fa2c44eac9843bf12898955e2": {
          "model_module": "@jupyter-widgets/base",
          "model_name": "LayoutModel",
          "model_module_version": "1.2.0",
          "state": {
            "_model_module": "@jupyter-widgets/base",
            "_model_module_version": "1.2.0",
            "_model_name": "LayoutModel",
            "_view_count": null,
            "_view_module": "@jupyter-widgets/base",
            "_view_module_version": "1.2.0",
            "_view_name": "LayoutView",
            "align_content": null,
            "align_items": null,
            "align_self": null,
            "border": null,
            "bottom": null,
            "display": null,
            "flex": null,
            "flex_flow": null,
            "grid_area": null,
            "grid_auto_columns": null,
            "grid_auto_flow": null,
            "grid_auto_rows": null,
            "grid_column": null,
            "grid_gap": null,
            "grid_row": null,
            "grid_template_areas": null,
            "grid_template_columns": null,
            "grid_template_rows": null,
            "height": null,
            "justify_content": null,
            "justify_items": null,
            "left": null,
            "margin": null,
            "max_height": null,
            "max_width": null,
            "min_height": null,
            "min_width": null,
            "object_fit": null,
            "object_position": null,
            "order": null,
            "overflow": null,
            "overflow_x": null,
            "overflow_y": null,
            "padding": null,
            "right": null,
            "top": null,
            "visibility": null,
            "width": null
          }
        },
        "6837d29b10bb47e8bee9097c94cb9a12": {
          "model_module": "@jupyter-widgets/controls",
          "model_name": "ProgressStyleModel",
          "model_module_version": "1.5.0",
          "state": {
            "_model_module": "@jupyter-widgets/controls",
            "_model_module_version": "1.5.0",
            "_model_name": "ProgressStyleModel",
            "_view_count": null,
            "_view_module": "@jupyter-widgets/base",
            "_view_module_version": "1.2.0",
            "_view_name": "StyleView",
            "bar_color": null,
            "description_width": ""
          }
        },
        "25f22f3f851d427fb258ade758923381": {
          "model_module": "@jupyter-widgets/base",
          "model_name": "LayoutModel",
          "model_module_version": "1.2.0",
          "state": {
            "_model_module": "@jupyter-widgets/base",
            "_model_module_version": "1.2.0",
            "_model_name": "LayoutModel",
            "_view_count": null,
            "_view_module": "@jupyter-widgets/base",
            "_view_module_version": "1.2.0",
            "_view_name": "LayoutView",
            "align_content": null,
            "align_items": null,
            "align_self": null,
            "border": null,
            "bottom": null,
            "display": null,
            "flex": null,
            "flex_flow": null,
            "grid_area": null,
            "grid_auto_columns": null,
            "grid_auto_flow": null,
            "grid_auto_rows": null,
            "grid_column": null,
            "grid_gap": null,
            "grid_row": null,
            "grid_template_areas": null,
            "grid_template_columns": null,
            "grid_template_rows": null,
            "height": null,
            "justify_content": null,
            "justify_items": null,
            "left": null,
            "margin": null,
            "max_height": null,
            "max_width": null,
            "min_height": null,
            "min_width": null,
            "object_fit": null,
            "object_position": null,
            "order": null,
            "overflow": null,
            "overflow_x": null,
            "overflow_y": null,
            "padding": null,
            "right": null,
            "top": null,
            "visibility": null,
            "width": null
          }
        },
        "cd9ed08257f64fa091e5c1c294fb0648": {
          "model_module": "@jupyter-widgets/controls",
          "model_name": "DescriptionStyleModel",
          "model_module_version": "1.5.0",
          "state": {
            "_model_module": "@jupyter-widgets/controls",
            "_model_module_version": "1.5.0",
            "_model_name": "DescriptionStyleModel",
            "_view_count": null,
            "_view_module": "@jupyter-widgets/base",
            "_view_module_version": "1.2.0",
            "_view_name": "StyleView",
            "description_width": ""
          }
        }
      }
    }
  },
  "cells": [
    {
      "cell_type": "markdown",
      "metadata": {
        "id": "view-in-github",
        "colab_type": "text"
      },
      "source": [
        "<a href=\"https://colab.research.google.com/github/dolmani38/QA/blob/main/Korean_QA_on_Wiki_220224.ipynb\" target=\"_parent\"><img src=\"https://colab.research.google.com/assets/colab-badge.svg\" alt=\"Open In Colab\"/></a>"
      ]
    },
    {
      "cell_type": "markdown",
      "metadata": {
        "id": "T6x4Nsa-fZkw"
      },
      "source": [
        "## Building a QA System with BERT on Wikipedia\n",
        "\n",
        "https://qa.fastforwardlabs.com/pytorch/hugging%20face/wikipedia/bert/transformers/2020/05/19/Getting_Started_with_QA.html"
      ]
    },
    {
      "cell_type": "markdown",
      "metadata": {
        "id": "SixlAqFJfbK9"
      },
      "source": [
        "위의 내용을 한국어 QA로 변경\n",
        "\n",
        "지식 base = wiki+네이버(view,kin,news)"
      ]
    },
    {
      "cell_type": "code",
      "metadata": {
        "colab": {
          "base_uri": "https://localhost:8080/"
        },
        "id": "1cKYlcdVfekg",
        "outputId": "d8a0f781-4b58-4f4a-fa37-814128402604"
      },
      "source": [
        "!pip install wikipedia==1.4.0\n",
        "!pip install sentence-transformers==1.1.1\n",
        "!pip install transformers==4.6.0"
      ],
      "execution_count": 1,
      "outputs": [
        {
          "output_type": "stream",
          "name": "stdout",
          "text": [
            "Looking in indexes: https://pypi.org/simple, https://us-python.pkg.dev/colab-wheels/public/simple/\n",
            "Collecting wikipedia==1.4.0\n",
            "  Downloading wikipedia-1.4.0.tar.gz (27 kB)\n",
            "  Preparing metadata (setup.py) ... \u001b[?25l\u001b[?25hdone\n",
            "Requirement already satisfied: beautifulsoup4 in /usr/local/lib/python3.10/dist-packages (from wikipedia==1.4.0) (4.11.2)\n",
            "Requirement already satisfied: requests<3.0.0,>=2.0.0 in /usr/local/lib/python3.10/dist-packages (from wikipedia==1.4.0) (2.27.1)\n",
            "Requirement already satisfied: urllib3<1.27,>=1.21.1 in /usr/local/lib/python3.10/dist-packages (from requests<3.0.0,>=2.0.0->wikipedia==1.4.0) (1.26.15)\n",
            "Requirement already satisfied: certifi>=2017.4.17 in /usr/local/lib/python3.10/dist-packages (from requests<3.0.0,>=2.0.0->wikipedia==1.4.0) (2022.12.7)\n",
            "Requirement already satisfied: charset-normalizer~=2.0.0 in /usr/local/lib/python3.10/dist-packages (from requests<3.0.0,>=2.0.0->wikipedia==1.4.0) (2.0.12)\n",
            "Requirement already satisfied: idna<4,>=2.5 in /usr/local/lib/python3.10/dist-packages (from requests<3.0.0,>=2.0.0->wikipedia==1.4.0) (3.4)\n",
            "Requirement already satisfied: soupsieve>1.2 in /usr/local/lib/python3.10/dist-packages (from beautifulsoup4->wikipedia==1.4.0) (2.4.1)\n",
            "Building wheels for collected packages: wikipedia\n",
            "  Building wheel for wikipedia (setup.py) ... \u001b[?25l\u001b[?25hdone\n",
            "  Created wheel for wikipedia: filename=wikipedia-1.4.0-py3-none-any.whl size=11680 sha256=78bc9af5887d743ce9f905a983c5747eb8a776ae2da91dfe810b1d2a44bbfd5a\n",
            "  Stored in directory: /root/.cache/pip/wheels/5e/b6/c5/93f3dec388ae76edc830cb42901bb0232504dfc0df02fc50de\n",
            "Successfully built wikipedia\n",
            "Installing collected packages: wikipedia\n",
            "Successfully installed wikipedia-1.4.0\n",
            "Looking in indexes: https://pypi.org/simple, https://us-python.pkg.dev/colab-wheels/public/simple/\n",
            "Collecting sentence-transformers==1.1.1\n",
            "  Downloading sentence-transformers-1.1.1.tar.gz (81 kB)\n",
            "\u001b[2K     \u001b[90m━━━━━━━━━━━━━━━━━━━━━━━━━━━━━━━━━━━━━━━━\u001b[0m \u001b[32m81.4/81.4 kB\u001b[0m \u001b[31m3.4 MB/s\u001b[0m eta \u001b[36m0:00:00\u001b[0m\n",
            "\u001b[?25h  Preparing metadata (setup.py) ... \u001b[?25l\u001b[?25hdone\n",
            "Collecting transformers<5.0.0,>=3.1.0 (from sentence-transformers==1.1.1)\n",
            "  Downloading transformers-4.30.2-py3-none-any.whl (7.2 MB)\n",
            "\u001b[2K     \u001b[90m━━━━━━━━━━━━━━━━━━━━━━━━━━━━━━━━━━━━━━━━\u001b[0m \u001b[32m7.2/7.2 MB\u001b[0m \u001b[31m66.4 MB/s\u001b[0m eta \u001b[36m0:00:00\u001b[0m\n",
            "\u001b[?25hRequirement already satisfied: tqdm in /usr/local/lib/python3.10/dist-packages (from sentence-transformers==1.1.1) (4.65.0)\n",
            "Requirement already satisfied: torch>=1.6.0 in /usr/local/lib/python3.10/dist-packages (from sentence-transformers==1.1.1) (2.0.1+cu118)\n",
            "Requirement already satisfied: torchvision in /usr/local/lib/python3.10/dist-packages (from sentence-transformers==1.1.1) (0.15.2+cu118)\n",
            "Requirement already satisfied: numpy in /usr/local/lib/python3.10/dist-packages (from sentence-transformers==1.1.1) (1.22.4)\n",
            "Requirement already satisfied: scikit-learn in /usr/local/lib/python3.10/dist-packages (from sentence-transformers==1.1.1) (1.2.2)\n",
            "Requirement already satisfied: scipy in /usr/local/lib/python3.10/dist-packages (from sentence-transformers==1.1.1) (1.10.1)\n",
            "Requirement already satisfied: nltk in /usr/local/lib/python3.10/dist-packages (from sentence-transformers==1.1.1) (3.8.1)\n",
            "Collecting sentencepiece (from sentence-transformers==1.1.1)\n",
            "  Downloading sentencepiece-0.1.99-cp310-cp310-manylinux_2_17_x86_64.manylinux2014_x86_64.whl (1.3 MB)\n",
            "\u001b[2K     \u001b[90m━━━━━━━━━━━━━━━━━━━━━━━━━━━━━━━━━━━━━━━━\u001b[0m \u001b[32m1.3/1.3 MB\u001b[0m \u001b[31m60.5 MB/s\u001b[0m eta \u001b[36m0:00:00\u001b[0m\n",
            "\u001b[?25hRequirement already satisfied: filelock in /usr/local/lib/python3.10/dist-packages (from torch>=1.6.0->sentence-transformers==1.1.1) (3.12.0)\n",
            "Requirement already satisfied: typing-extensions in /usr/local/lib/python3.10/dist-packages (from torch>=1.6.0->sentence-transformers==1.1.1) (4.5.0)\n",
            "Requirement already satisfied: sympy in /usr/local/lib/python3.10/dist-packages (from torch>=1.6.0->sentence-transformers==1.1.1) (1.11.1)\n",
            "Requirement already satisfied: networkx in /usr/local/lib/python3.10/dist-packages (from torch>=1.6.0->sentence-transformers==1.1.1) (3.1)\n",
            "Requirement already satisfied: jinja2 in /usr/local/lib/python3.10/dist-packages (from torch>=1.6.0->sentence-transformers==1.1.1) (3.1.2)\n",
            "Requirement already satisfied: triton==2.0.0 in /usr/local/lib/python3.10/dist-packages (from torch>=1.6.0->sentence-transformers==1.1.1) (2.0.0)\n",
            "Requirement already satisfied: cmake in /usr/local/lib/python3.10/dist-packages (from triton==2.0.0->torch>=1.6.0->sentence-transformers==1.1.1) (3.25.2)\n",
            "Requirement already satisfied: lit in /usr/local/lib/python3.10/dist-packages (from triton==2.0.0->torch>=1.6.0->sentence-transformers==1.1.1) (16.0.5)\n",
            "Collecting huggingface-hub<1.0,>=0.14.1 (from transformers<5.0.0,>=3.1.0->sentence-transformers==1.1.1)\n",
            "  Downloading huggingface_hub-0.15.1-py3-none-any.whl (236 kB)\n",
            "\u001b[2K     \u001b[90m━━━━━━━━━━━━━━━━━━━━━━━━━━━━━━━━━━━━━━\u001b[0m \u001b[32m236.8/236.8 kB\u001b[0m \u001b[31m22.1 MB/s\u001b[0m eta \u001b[36m0:00:00\u001b[0m\n",
            "\u001b[?25hRequirement already satisfied: packaging>=20.0 in /usr/local/lib/python3.10/dist-packages (from transformers<5.0.0,>=3.1.0->sentence-transformers==1.1.1) (23.1)\n",
            "Requirement already satisfied: pyyaml>=5.1 in /usr/local/lib/python3.10/dist-packages (from transformers<5.0.0,>=3.1.0->sentence-transformers==1.1.1) (6.0)\n",
            "Requirement already satisfied: regex!=2019.12.17 in /usr/local/lib/python3.10/dist-packages (from transformers<5.0.0,>=3.1.0->sentence-transformers==1.1.1) (2022.10.31)\n",
            "Requirement already satisfied: requests in /usr/local/lib/python3.10/dist-packages (from transformers<5.0.0,>=3.1.0->sentence-transformers==1.1.1) (2.27.1)\n",
            "Collecting tokenizers!=0.11.3,<0.14,>=0.11.1 (from transformers<5.0.0,>=3.1.0->sentence-transformers==1.1.1)\n",
            "  Downloading tokenizers-0.13.3-cp310-cp310-manylinux_2_17_x86_64.manylinux2014_x86_64.whl (7.8 MB)\n",
            "\u001b[2K     \u001b[90m━━━━━━━━━━━━━━━━━━━━━━━━━━━━━━━━━━━━━━━━\u001b[0m \u001b[32m7.8/7.8 MB\u001b[0m \u001b[31m41.2 MB/s\u001b[0m eta \u001b[36m0:00:00\u001b[0m\n",
            "\u001b[?25hCollecting safetensors>=0.3.1 (from transformers<5.0.0,>=3.1.0->sentence-transformers==1.1.1)\n",
            "  Downloading safetensors-0.3.1-cp310-cp310-manylinux_2_17_x86_64.manylinux2014_x86_64.whl (1.3 MB)\n",
            "\u001b[2K     \u001b[90m━━━━━━━━━━━━━━━━━━━━━━━━━━━━━━━━━━━━━━━━\u001b[0m \u001b[32m1.3/1.3 MB\u001b[0m \u001b[31m57.8 MB/s\u001b[0m eta \u001b[36m0:00:00\u001b[0m\n",
            "\u001b[?25hRequirement already satisfied: click in /usr/local/lib/python3.10/dist-packages (from nltk->sentence-transformers==1.1.1) (8.1.3)\n",
            "Requirement already satisfied: joblib in /usr/local/lib/python3.10/dist-packages (from nltk->sentence-transformers==1.1.1) (1.2.0)\n",
            "Requirement already satisfied: threadpoolctl>=2.0.0 in /usr/local/lib/python3.10/dist-packages (from scikit-learn->sentence-transformers==1.1.1) (3.1.0)\n",
            "Requirement already satisfied: pillow!=8.3.*,>=5.3.0 in /usr/local/lib/python3.10/dist-packages (from torchvision->sentence-transformers==1.1.1) (8.4.0)\n",
            "Requirement already satisfied: fsspec in /usr/local/lib/python3.10/dist-packages (from huggingface-hub<1.0,>=0.14.1->transformers<5.0.0,>=3.1.0->sentence-transformers==1.1.1) (2023.4.0)\n",
            "Requirement already satisfied: MarkupSafe>=2.0 in /usr/local/lib/python3.10/dist-packages (from jinja2->torch>=1.6.0->sentence-transformers==1.1.1) (2.1.2)\n",
            "Requirement already satisfied: urllib3<1.27,>=1.21.1 in /usr/local/lib/python3.10/dist-packages (from requests->transformers<5.0.0,>=3.1.0->sentence-transformers==1.1.1) (1.26.15)\n",
            "Requirement already satisfied: certifi>=2017.4.17 in /usr/local/lib/python3.10/dist-packages (from requests->transformers<5.0.0,>=3.1.0->sentence-transformers==1.1.1) (2022.12.7)\n",
            "Requirement already satisfied: charset-normalizer~=2.0.0 in /usr/local/lib/python3.10/dist-packages (from requests->transformers<5.0.0,>=3.1.0->sentence-transformers==1.1.1) (2.0.12)\n",
            "Requirement already satisfied: idna<4,>=2.5 in /usr/local/lib/python3.10/dist-packages (from requests->transformers<5.0.0,>=3.1.0->sentence-transformers==1.1.1) (3.4)\n",
            "Requirement already satisfied: mpmath>=0.19 in /usr/local/lib/python3.10/dist-packages (from sympy->torch>=1.6.0->sentence-transformers==1.1.1) (1.3.0)\n",
            "Building wheels for collected packages: sentence-transformers\n",
            "  Building wheel for sentence-transformers (setup.py) ... \u001b[?25l\u001b[?25hdone\n",
            "  Created wheel for sentence-transformers: filename=sentence_transformers-1.1.1-py3-none-any.whl size=123322 sha256=3e61bcd18f4590de3fbaf1b6b24208e9a852f65470d214be420ba2eb4f56b3bb\n",
            "  Stored in directory: /root/.cache/pip/wheels/59/f7/f6/65d72dfacb743e64eb9d0e9dd0079859553f5b16e776382f00\n",
            "Successfully built sentence-transformers\n",
            "Installing collected packages: tokenizers, sentencepiece, safetensors, huggingface-hub, transformers, sentence-transformers\n",
            "Successfully installed huggingface-hub-0.15.1 safetensors-0.3.1 sentence-transformers-1.1.1 sentencepiece-0.1.99 tokenizers-0.13.3 transformers-4.30.2\n",
            "Looking in indexes: https://pypi.org/simple, https://us-python.pkg.dev/colab-wheels/public/simple/\n",
            "Collecting transformers==4.6.0\n",
            "  Downloading transformers-4.6.0-py3-none-any.whl (2.3 MB)\n",
            "\u001b[2K     \u001b[90m━━━━━━━━━━━━━━━━━━━━━━━━━━━━━━━━━━━━━━━━\u001b[0m \u001b[32m2.3/2.3 MB\u001b[0m \u001b[31m26.7 MB/s\u001b[0m eta \u001b[36m0:00:00\u001b[0m\n",
            "\u001b[?25hRequirement already satisfied: filelock in /usr/local/lib/python3.10/dist-packages (from transformers==4.6.0) (3.12.0)\n",
            "Collecting huggingface-hub==0.0.8 (from transformers==4.6.0)\n",
            "  Downloading huggingface_hub-0.0.8-py3-none-any.whl (34 kB)\n",
            "Requirement already satisfied: numpy>=1.17 in /usr/local/lib/python3.10/dist-packages (from transformers==4.6.0) (1.22.4)\n",
            "Requirement already satisfied: packaging in /usr/local/lib/python3.10/dist-packages (from transformers==4.6.0) (23.1)\n",
            "Requirement already satisfied: regex!=2019.12.17 in /usr/local/lib/python3.10/dist-packages (from transformers==4.6.0) (2022.10.31)\n",
            "Requirement already satisfied: requests in /usr/local/lib/python3.10/dist-packages (from transformers==4.6.0) (2.27.1)\n",
            "Collecting sacremoses (from transformers==4.6.0)\n",
            "  Downloading sacremoses-0.0.53.tar.gz (880 kB)\n",
            "\u001b[2K     \u001b[90m━━━━━━━━━━━━━━━━━━━━━━━━━━━━━━━━━━━━━━\u001b[0m \u001b[32m880.6/880.6 kB\u001b[0m \u001b[31m65.6 MB/s\u001b[0m eta \u001b[36m0:00:00\u001b[0m\n",
            "\u001b[?25h  Preparing metadata (setup.py) ... \u001b[?25l\u001b[?25hdone\n",
            "Collecting tokenizers<0.11,>=0.10.1 (from transformers==4.6.0)\n",
            "  Downloading tokenizers-0.10.3.tar.gz (212 kB)\n",
            "\u001b[2K     \u001b[90m━━━━━━━━━━━━━━━━━━━━━━━━━━━━━━━━━━━━━━\u001b[0m \u001b[32m212.7/212.7 kB\u001b[0m \u001b[31m21.4 MB/s\u001b[0m eta \u001b[36m0:00:00\u001b[0m\n",
            "\u001b[?25h  Installing build dependencies ... \u001b[?25l\u001b[?25hdone\n",
            "  Getting requirements to build wheel ... \u001b[?25l\u001b[?25hdone\n",
            "  Preparing metadata (pyproject.toml) ... \u001b[?25l\u001b[?25hdone\n",
            "Requirement already satisfied: tqdm>=4.27 in /usr/local/lib/python3.10/dist-packages (from transformers==4.6.0) (4.65.0)\n",
            "Requirement already satisfied: urllib3<1.27,>=1.21.1 in /usr/local/lib/python3.10/dist-packages (from requests->transformers==4.6.0) (1.26.15)\n",
            "Requirement already satisfied: certifi>=2017.4.17 in /usr/local/lib/python3.10/dist-packages (from requests->transformers==4.6.0) (2022.12.7)\n",
            "Requirement already satisfied: charset-normalizer~=2.0.0 in /usr/local/lib/python3.10/dist-packages (from requests->transformers==4.6.0) (2.0.12)\n",
            "Requirement already satisfied: idna<4,>=2.5 in /usr/local/lib/python3.10/dist-packages (from requests->transformers==4.6.0) (3.4)\n",
            "Requirement already satisfied: six in /usr/local/lib/python3.10/dist-packages (from sacremoses->transformers==4.6.0) (1.16.0)\n",
            "Requirement already satisfied: click in /usr/local/lib/python3.10/dist-packages (from sacremoses->transformers==4.6.0) (8.1.3)\n",
            "Requirement already satisfied: joblib in /usr/local/lib/python3.10/dist-packages (from sacremoses->transformers==4.6.0) (1.2.0)\n",
            "Building wheels for collected packages: tokenizers, sacremoses\n",
            "  \u001b[1;31merror\u001b[0m: \u001b[1msubprocess-exited-with-error\u001b[0m\n",
            "  \n",
            "  \u001b[31m×\u001b[0m \u001b[32mBuilding wheel for tokenizers \u001b[0m\u001b[1;32m(\u001b[0m\u001b[32mpyproject.toml\u001b[0m\u001b[1;32m)\u001b[0m did not run successfully.\n",
            "  \u001b[31m│\u001b[0m exit code: \u001b[1;36m1\u001b[0m\n",
            "  \u001b[31m╰─>\u001b[0m See above for output.\n",
            "  \n",
            "  \u001b[1;35mnote\u001b[0m: This error originates from a subprocess, and is likely not a problem with pip.\n",
            "  Building wheel for tokenizers (pyproject.toml) ... \u001b[?25l\u001b[?25herror\n",
            "\u001b[31m  ERROR: Failed building wheel for tokenizers\u001b[0m\u001b[31m\n",
            "\u001b[0m  Building wheel for sacremoses (setup.py) ... \u001b[?25l\u001b[?25hdone\n",
            "  Created wheel for sacremoses: filename=sacremoses-0.0.53-py3-none-any.whl size=895241 sha256=74c2772263355f9598ba28b508eb5ef6d6d81233fb1d0b5126363863ae1d203f\n",
            "  Stored in directory: /root/.cache/pip/wheels/00/24/97/a2ea5324f36bc626e1ea0267f33db6aa80d157ee977e9e42fb\n",
            "Successfully built sacremoses\n",
            "Failed to build tokenizers\n",
            "\u001b[31mERROR: Could not build wheels for tokenizers, which is required to install pyproject.toml-based projects\u001b[0m\u001b[31m\n",
            "\u001b[0m"
          ]
        }
      ]
    },
    {
      "cell_type": "markdown",
      "metadata": {
        "id": "HtsH2Rm6VSMt"
      },
      "source": [
        "##한국어 SQUAD 모델의 사용\n",
        "https://huggingface.co/monologg/koelectra-base-v3-finetuned-korquad\n",
        "\n",
        "##영어 + 한국어 STS 모델의 사용\n",
        "\n",
        "#Extending Sentence Embeddings Models to New Languages\n",
        "\n",
        "**Available Pre-trained Models**\n",
        "\n",
        "*   **distiluse-base-multilingual-cased**: Supported languages: Arabic, Chinese, Dutch, English, French, German, Italian, Korean, Polish, Portuguese, Russian, Spanish, Turkish. Model is based on DistilBERT-multi-lingual.\n",
        "*   **xlm-r-base-en-ko-nli-ststb**: Supported languages: English, Korean. Performance on Korean STSbenchmark: 81.47\n",
        "*   **xlm-r-large-en-ko-nli-ststb**: Supported languages: English, Korean. Performance on Korean STSbenchmark: 84.05 --> 이거 사용!\n",
        "\n",
        "\n",
        "참조:https://github.com/UKPLab/sentence-transformers/blob/master/docs/pretrained-models/multilingual-models.md\n",
        "\n"
      ]
    },
    {
      "cell_type": "code",
      "metadata": {
        "id": "hwgl-wMvf13B",
        "outputId": "cbd9a97b-ca82-4114-d6d6-9ad4ec8053f6",
        "colab": {
          "base_uri": "https://localhost:8080/",
          "height": 209,
          "referenced_widgets": [
            "56e5ab35ae4343cc8c4690a72485b33f",
            "6336a5006fb448e694ca1305bdee14d8",
            "a7492d0a4b86436c8a43bcdf287d94ef",
            "fcff3fe4879441b889bc84d674eb26d7",
            "934835df43bb4da98561d06c3ba6af6e",
            "ac25a50b60cb49bebfdce837979fd0db",
            "f44f4d6dc8414634b2cf669501423bbd",
            "c6ae166e85b9470e8802caf4ec874917",
            "3a0562d906fb4b2bb2be2529783ea92e",
            "d1e866dd41ae4060bc74760dfa244eeb",
            "d65761b82dcd462daf04f7f898e3e4fb",
            "6a4d204a181b4ebfb08dbe791fbe03fc",
            "ffafa4859e00443a95dc4de772b3e209",
            "255ccb8e0a804e819a7628fb04c53bf6",
            "32cf554bb5dd45298c89de818cad0300",
            "d4c83d5c676a470aa5c012c11a115600",
            "dd854b7a6de643219be8ee1c36155427",
            "11e58e05e03b40179ec478dfb5783837",
            "b4f731d65a5c4e249caf2ca7e897c882",
            "9354c0a118c04601bc902c227ed4ed5e",
            "1171a8053dc1478c8f1f76a26805df4e",
            "69aa0be7013a430c96546446f4da8b2d",
            "357a3dae8ffe426190b823cbbf65a7ca",
            "592cd74bc0a6448e8e2f7553740812c6",
            "0c20fb2e3050473f86223b19b5f13065",
            "5b9775080437454eb8f9a01dfa5ebe28",
            "9fcf2a0024b2491aa4b958fafd79730f",
            "e69d07bd59164623b4a8a08fd1eacf75",
            "a2a51ffc72e445c3859276f192984a4f",
            "55e78a4cb68a418c864fe0957be4ba07",
            "f1aa5e08d78647549849f28f507c194e",
            "a968b8446bb640ff93d1936f86c3483d",
            "c33df9f8032a442ab287d3d1ac5de103",
            "f67b40671951435884cb49f79606687b",
            "cb7a0526d6b04f27905a49bea7255237",
            "441f920f9cdd48c5baca8d4bd0d39dce",
            "692b9000156b4f3d99bce71eced0ff82",
            "bf4d5c39ed1e4974a191aedf631e1d1a",
            "ccd0b4bcbc414412896ef74f3aed54fa",
            "afa19a6b07c24aabbe5f795eadc102ac",
            "65d24fb513cc4e4d97fb8aad341428f9",
            "93416dbeb19e42ff9ecb136bb9e7a193",
            "68edb8de50f54b5a8258a959b081ec5c",
            "74ef41daf97d47b7bdcb118105d568a9",
            "054e26286dcc44c999008c097c648a8c",
            "a2033cdd93b34c9f9a5a4dbe1105005f",
            "fe81df56090e493d9a94a0d34d98980f",
            "12b1d86413084ff789329d2622480165",
            "01ebd9613af84a0f99858aa66dbe0444",
            "80a3effea45f4c218a1ed5367ef86e3f",
            "4907534738ed4fbfb55dec995d2b08a7",
            "81e99011032c4de7aa960be8bf95ea99",
            "38abecf9d9ec45cb9e7781e1f6d53c15",
            "2608a759ac864e80937138a409ba8d31",
            "faf1223483b947a0863e030e2284769d",
            "561598cd48bc471abca60d86c039a6ba",
            "29a48bfda6534985b77ada05dd12d680",
            "47428b27aec641abb871d0e8815fd42d",
            "c527f6ef627347e69446dbf390d90c16",
            "c6afe1e350da489896a5d0e5ac6607c8",
            "c0c073842693445394ce79a97627a4e4",
            "7b845af813c241848d53e61fa6d33213",
            "56c9de5fa2c44eac9843bf12898955e2",
            "6837d29b10bb47e8bee9097c94cb9a12",
            "25f22f3f851d427fb258ade758923381",
            "cd9ed08257f64fa091e5c1c294fb0648"
          ]
        }
      },
      "source": [
        "from sentence_transformers import SentenceTransformer\n",
        "from transformers import AutoTokenizer, AutoModelForQuestionAnswering\n",
        "\n",
        "SQUAD_MODEL = \"monologg/koelectra-base-v3-finetuned-korquad\"\n",
        "STS_MODEL = \"xlm-r-large-en-ko-nli-ststb\"\n",
        "\n",
        "tokenizer = AutoTokenizer.from_pretrained(SQUAD_MODEL)\n",
        "model = AutoModelForQuestionAnswering.from_pretrained(SQUAD_MODEL)\n",
        "#reader = DocumentReader(SQUAD_MODEL)\n",
        "embedder = SentenceTransformer(STS_MODEL)"
      ],
      "execution_count": 2,
      "outputs": [
        {
          "output_type": "display_data",
          "data": {
            "text/plain": [
              "Downloading (…)okenizer_config.json:   0%|          | 0.00/111 [00:00<?, ?B/s]"
            ],
            "application/vnd.jupyter.widget-view+json": {
              "version_major": 2,
              "version_minor": 0,
              "model_id": "56e5ab35ae4343cc8c4690a72485b33f"
            }
          },
          "metadata": {}
        },
        {
          "output_type": "display_data",
          "data": {
            "text/plain": [
              "Downloading (…)lve/main/config.json:   0%|          | 0.00/591 [00:00<?, ?B/s]"
            ],
            "application/vnd.jupyter.widget-view+json": {
              "version_major": 2,
              "version_minor": 0,
              "model_id": "6a4d204a181b4ebfb08dbe791fbe03fc"
            }
          },
          "metadata": {}
        },
        {
          "output_type": "display_data",
          "data": {
            "text/plain": [
              "Downloading (…)solve/main/vocab.txt:   0%|          | 0.00/263k [00:00<?, ?B/s]"
            ],
            "application/vnd.jupyter.widget-view+json": {
              "version_major": 2,
              "version_minor": 0,
              "model_id": "357a3dae8ffe426190b823cbbf65a7ca"
            }
          },
          "metadata": {}
        },
        {
          "output_type": "display_data",
          "data": {
            "text/plain": [
              "Downloading (…)cial_tokens_map.json:   0%|          | 0.00/112 [00:00<?, ?B/s]"
            ],
            "application/vnd.jupyter.widget-view+json": {
              "version_major": 2,
              "version_minor": 0,
              "model_id": "f67b40671951435884cb49f79606687b"
            }
          },
          "metadata": {}
        },
        {
          "output_type": "display_data",
          "data": {
            "text/plain": [
              "Downloading model.safetensors:   0%|          | 0.00/449M [00:00<?, ?B/s]"
            ],
            "application/vnd.jupyter.widget-view+json": {
              "version_major": 2,
              "version_minor": 0,
              "model_id": "054e26286dcc44c999008c097c648a8c"
            }
          },
          "metadata": {}
        },
        {
          "output_type": "display_data",
          "data": {
            "text/plain": [
              "  0%|          | 0.00/1.80G [00:00<?, ?B/s]"
            ],
            "application/vnd.jupyter.widget-view+json": {
              "version_major": 2,
              "version_minor": 0,
              "model_id": "561598cd48bc471abca60d86c039a6ba"
            }
          },
          "metadata": {}
        }
      ]
    },
    {
      "cell_type": "code",
      "metadata": {
        "id": "Omq9ivSP-oZl"
      },
      "source": [
        "# Print iterations progress\n",
        "class ProgressBar:\n",
        "\n",
        "  def __init__(self,total=20, prefix = '', suffix = '', decimals = 1, length = 20, fill = '█', printEnd = \"\\r\"):\n",
        "    self.total = total\n",
        "    self.prefix = prefix\n",
        "    self.suffix = suffix\n",
        "    self.decimals = decimals\n",
        "    self.length = length\n",
        "    self.fill = fill\n",
        "    self.printEnd = printEnd\n",
        "    self.ite = 0\n",
        "\n",
        "  def printProgress(self,iteration, text):\n",
        "      self.ite += iteration\n",
        "      percent = (\"{0:.\" + str(self.decimals) + \"f}\").format(100 * (self.ite / float(self.total)))\n",
        "\n",
        "      filledLength = int(self.length * self.ite // self.total)\n",
        "      bar = self.fill * filledLength + '-' * (self.length - filledLength)\n",
        "      print(f'\\r{self.prefix} |{bar}| {percent}% {self.suffix}  {text}', end=\"\", flush=True)\n",
        "      # Print New Line on Complete\n",
        "      if self.ite == self.total:\n",
        "          print()"
      ],
      "execution_count": 3,
      "outputs": []
    },
    {
      "cell_type": "code",
      "metadata": {
        "id": "msXss3LjHNCD"
      },
      "source": [
        "class AnswerVoter:\n",
        "  def __init__(self, threshold_score=3,max_rank=5):\n",
        "    self.answes = {}\n",
        "    self.threshold_score= threshold_score\n",
        "    self.max_rank = max_rank\n",
        "\n",
        "  def add_ans(self,ans,score,src,pb):\n",
        "    key = ans.replace(' ','')\n",
        "    if score > self.threshold_score:\n",
        "      #print(' --- Candidate answer:',ans,score)\n",
        "      pb.printProgress(0,'Candidate answer:' + str(ans) + ' ' + str(score))\n",
        "      if key in self.answes:\n",
        "        self.answes[key][1] += score\n",
        "        if src in self.answes[key][2]:\n",
        "          pass\n",
        "        else:\n",
        "          self.answes[key][2].append(src)\n",
        "      else:\n",
        "        self.answes[key] = [ans,score,[src]]\n",
        "\n",
        "  def get_ans(self):\n",
        "    answer = []\n",
        "    sorted_x = sorted(self.answes.items(), key=lambda kv: kv[1][1],reverse=True)\n",
        "    for i in range(min(self.max_rank,len(sorted_x))):\n",
        "      answer.append(sorted_x[i])\n",
        "\n",
        "    return answer\n",
        "\n",
        "  def print(self):\n",
        "    answer = self.get_ans()\n",
        "    for ans in answer:\n",
        "      print('Answer:',ans[1][0], ' score:',ans[1][1], ' source:',ans[1][2])\n",
        "      #print('Answer:',ans)"
      ],
      "execution_count": 4,
      "outputs": []
    },
    {
      "cell_type": "code",
      "metadata": {
        "id": "Q8Q6ylSQ073J"
      },
      "source": [
        "import wikipedia as wiki\n",
        "import pprint as pp\n",
        "from collections import OrderedDict\n",
        "import torch\n",
        "\n",
        "class DocumentReader:\n",
        "    def __init__(self, _tokenizer, _model):\n",
        "        #self.READER_PATH = pretrained_model_name_or_path\n",
        "        self.tokenizer = _tokenizer #AutoTokenizer.from_pretrained(self.READER_PATH)\n",
        "        self.model = _model #AutoModelForQuestionAnswering.from_pretrained(self.READER_PATH)\n",
        "        self.max_len = self.model.config.max_position_embeddings\n",
        "        self.chunked = False\n",
        "\n",
        "        self.device = torch.device('cuda') if torch.cuda.is_available() else torch.device('cpu')\n",
        "        #self.tokenizer.to(self.device)\n",
        "        self.model.to(self.device)\n",
        "\n",
        "    def tokenize(self, question, context):\n",
        "        self.inputs = self.tokenizer.encode_plus(question, context, max_length=512, truncation=True, add_special_tokens=True, return_tensors=\"pt\")\n",
        "        self.inputs.to(self.device)\n",
        "        self.input_ids = self.inputs[\"input_ids\"].tolist()[0]\n",
        "\n",
        "        if len(self.input_ids) > self.max_len:\n",
        "            self.inputs = self.chunkify()\n",
        "            self.chunked = True\n",
        "            print('input_ids:',len(self.input_ids),'max_len:',self.max_len)\n",
        "\n",
        "    def chunkify(self):\n",
        "        \"\"\"\n",
        "        Break up a long article into chunks that fit within the max token\n",
        "        requirement for that Transformer model.\n",
        "\n",
        "        Calls to BERT / RoBERTa / ALBERT require the following format:\n",
        "        [CLS] question tokens [SEP] context tokens [SEP].\n",
        "        \"\"\"\n",
        "\n",
        "        # create question mask based on token_type_ids\n",
        "        # value is 0 for question tokens, 1 for context tokens\n",
        "        qmask = self.inputs['token_type_ids'].lt(1)\n",
        "        qt = torch.masked_select(self.inputs['input_ids'], qmask)\n",
        "        chunk_size = self.max_len - qt.size()[0] - 1 # the \"-1\" accounts for\n",
        "        # having to add an ending [SEP] token to the end\n",
        "\n",
        "        # create a dict of dicts; each sub-dict mimics the structure of pre-chunked model input\n",
        "        chunked_input = OrderedDict()\n",
        "        for k,v in self.inputs.items():\n",
        "            q = torch.masked_select(v, qmask)\n",
        "            c = torch.masked_select(v, ~qmask)\n",
        "            chunks = torch.split(c, chunk_size)\n",
        "\n",
        "            for i, chunk in enumerate(chunks):\n",
        "                if i not in chunked_input:\n",
        "                    chunked_input[i] = {}\n",
        "\n",
        "                thing = torch.cat((q, chunk))\n",
        "                if i != len(chunks)-1:\n",
        "                    if k == 'input_ids':\n",
        "                        thing = torch.cat((thing, torch.tensor([102])))\n",
        "                    else:\n",
        "                        thing = torch.cat((thing, torch.tensor([1])))\n",
        "\n",
        "                chunked_input[i][k] = torch.unsqueeze(thing, dim=0)\n",
        "        return chunked_input.to(self.device)\n",
        "\n",
        "    def get_answer(self,answer,src,pb):\n",
        "        if self.chunked:\n",
        "\n",
        "            for k, chunk in self.inputs.items():\n",
        "                #chunk.to(self.device)\n",
        "                outputs = self.model(**chunk)\n",
        "\n",
        "                answer_start = torch.argmax(outputs[0])\n",
        "                answer_end = torch.argmax(outputs[1]) + 1\n",
        "                ans = self.convert_ids_to_string(chunk['input_ids'][0][answer_start:answer_end])\n",
        "                if ans.startswith(('[CLS]','[SEP]',' ','°')) or ans=='':\n",
        "                    #raise Exception('No Answer')\n",
        "                    pass\n",
        "                else:\n",
        "                    score = float(torch.max(outputs[0]))\n",
        "                    #print(ans,score)\n",
        "                    answer.add_ans(ans,score,src,pb)\n",
        "                    #answer += ans + ', '\n",
        "                    #print(ans,torch.max(answer_start_scores),torch.max(answer_end_scores))\n",
        "                    #break\n",
        "        else:\n",
        "            outputs = self.model(**self.inputs)\n",
        "\n",
        "            #print(outputs[0])\n",
        "\n",
        "            answer_start = torch.argmax(outputs[0])  # get the most likely beginning of answer with the argmax of the score\n",
        "            answer_end = torch.argmax(outputs[1]) + 1  # get the most likely end of answer with the argmax of the score\n",
        "\n",
        "            ans = self.convert_ids_to_string(self.inputs['input_ids'][0][\n",
        "                                              answer_start:answer_end])\n",
        "\n",
        "            if ans in ['',' ','  ']:\n",
        "              pass\n",
        "            else:\n",
        "              score = float(torch.max(outputs[0]))\n",
        "              #print(ans,score)\n",
        "              answer.add_ans(ans,score,src,pb)\n",
        "        #if len(answer) == 0:\n",
        "        #  raise Error(\"No Answer\")\n",
        "        return answer\n",
        "\n",
        "    def convert_ids_to_string(self, input_ids):\n",
        "        return self.tokenizer.convert_tokens_to_string(self.tokenizer.convert_ids_to_tokens(input_ids))"
      ],
      "execution_count": 5,
      "outputs": []
    },
    {
      "cell_type": "code",
      "source": [
        "G_TEXT=\"\"\"\n",
        "함평 대한민국 국향대전 시작 광주전남 축제 본격 개최\n",
        "코로나19에 지친 시민들 만개한 형형색색 국화보며 힐링\n",
        "지난해 취소됐던 충장축제도 개최 대면과 비대면 병행 개최\n",
        "11월 전남 해남미남축제, 순천푸드앤아트페스티벌 등 4개 축제 개최\n",
        "관람객들이 5일 대한민국국향대전이 열린 전남 함평 엑스포공원에서 국화를 감상하고 있다. 김한영 기자\n",
        "관람객들이 5일 대한민국국향대전이 열린 전남 함평 엑스포공원에서 국화를 감상하고 있다. 김한영 기자\n",
        "위드 코로나 정책이 본격 시행되고 있는 가운데 5일 함평에서 막을 연 대한민국 국향대전을 시작으로 광주전남에서는 다양한 축제가 펼쳐진다.\n",
        "대한민국 국향대전이 5일 오후 함평 엑스포공원.\n",
        "국향대전 매표소 앞엔 줄이 늘어섰고, 입장을 기다리며 들뜬 관객들로 북적였다.\n",
        "엑스포공원에는 지구볼 손 모형, 바다거북과 물고기, 꿈나무 희망나무 등 조형물부터 600여 점의 야간경관 조형물도 설치돼 남녀노소 모두에게 즐거운 볼거리를 제공하고 있다.\n",
        "국화의 매력을 작품으로 살펴보는 분재작품 전시관과 대한민국 국화동호회 작품관을 비롯해 관람객을 빛의 세계로 안내할 미디어아트 전시도 준비돼 있었다.\n",
        "관람객들이 5일 대한민국국향대전이 열린 전남 함평 엑스포공원에서 국화 분재를 감상하고 있다. 김한영 기자\n",
        "관람객들이 5일 대한민국국향대전이 열린 전남 함평 엑스포공원에서 국화 분재를 감상하고 있다. 김한영 기자\n",
        "코로나에 지쳤던 관람객들은 만개한 형형색색 국화를 보며 힐링의 시간을 가졌다. 관람객들은 국화로 만든 조형물 앞에서 사진도 찍고 전시관에 전시 중인 국화 분재도 구경했다.\n",
        "서울에서 온 박영숙(61·여)씨는 \"국화하면 함평이라서 서울에서 찾아왔다\"며 \"가을 분위기가 나서 너무 좋다\"고 말했다. 광주에 사는 윤인선(31·여)씨도 \"예쁜 꽃을 보니까 힐링되는 기분이 든다\"며 \"국화뿐만 아니라 다양한 조형물도 볼 수 있어서 좋았다\"고 말했다.\n",
        "관람객들은 진한 국화 향을 맡으며 깊어가는 가을 정취를 만끽했다.\n",
        "함평군은 코로나19 여파로 지난해 취소됐던 국향대전이 오랜만에 관람객을 맞이하는 만큼 '안심‧안전축제'로 거듭나기 위해 출입구에 전신 소독기를 비치하는 방역에 만전을 기했다.\n",
        "지난해 코로나19 여파로 취소됐던 광주 충장축제도 오는 18일부터 21일까지 사흘 동안 열린다.\n",
        "광주 동구청은 코로나 일상시대에 발맞춰 주민과 방문객들의 안전을 최우선으로 대면과 비대면을 병행해 '제18회 추억의 충장축제'를 개최한다.  대면 프로그램은 5·18민주광장, 신서석로, 국립아시아문화전당(ACC) 부설 주차장, 용산체육공원, 전일빌딩245, 충장로·금남로 지하상가 등 동구 일원에서 진행된다.\n",
        "충장축제 5대 시민참여형 프로그램인 △충장 텐트 공연예술제 △드라이브 인 추억 콘서트 △추억의 소울푸드 △필름 카메라 IN 광주여행 △우리 마을 골목에서 즐기는 충장축제를 통해 방문객들에게 특별한 추억을 선사할 예정이다.\n",
        "동구청은 개별적 방역관리가 어려운 먹거리·체험부스는 배제하는 대신 대면접촉을 최소화할 수 있는 포토존과 전시물을 확대할 방침이다.\n",
        "11월 전남에서는 대한민국 국향대전을 시작으로 해남미남축제(12~14일)와 순천푸드앤아트페스티벌(12~13일), 함평 대한민국난명품 대제전(27~28일) 등 4개 축제가 대면행사로 치뤄질 예정이다.\n",
        "\"\"\""
      ],
      "metadata": {
        "id": "O9uZy2BlDIpS"
      },
      "execution_count": 6,
      "outputs": []
    },
    {
      "cell_type": "code",
      "metadata": {
        "id": "_tD9xyTjf_AD"
      },
      "source": [
        "import sys\n",
        "import torch\n",
        "from transformers import AutoTokenizer, AutoModelForQuestionAnswering\n",
        "import wikipedia as wiki\n",
        "import pprint as pp\n",
        "from collections import OrderedDict\n",
        "import scipy\n",
        "import requests\n",
        "from bs4 import BeautifulSoup\n",
        "\n",
        "class Korean_QA_on_Wiki:\n",
        "  def __init__(self, document_reader,sentence_embedder):\n",
        "    self.reader = document_reader\n",
        "    self.embedder = sentence_embedder\n",
        "    wiki.set_lang('ko')\n",
        "\n",
        "  def __search_from_wiki(self,question,max_rank):\n",
        "    results = wiki.search(question,results=max_rank)\n",
        "    contents = []\n",
        "    for result in results:\n",
        "      try:\n",
        "        page = wiki.page(result)\n",
        "        #print(f\"Top wiki result: {page}\")\n",
        "        text = page.content\n",
        "        contents.append((text,page))\n",
        "      except Exception as ex:\n",
        "        print(ex)\n",
        "    return contents\n",
        "\n",
        "  def __search_from_naver(self,question,max_rank):\n",
        "    contents = []\n",
        "    url = 'https://search.naver.com/search.naver'\n",
        "    for w in ['view','kin','news','kdic']:\n",
        "      params = {'query': question,'where': w,}\n",
        "      response = requests.get(url, params=params)\n",
        "      html = response.text\n",
        "      #뷰티풀소프의 인자값 지정\n",
        "      soup = BeautifulSoup(html, 'html.parser')\n",
        "      #쪼개기\n",
        "      #title_list = soup.find_all('a', href=True)\n",
        "      title_list = soup.select('.api_txt_lines')\n",
        "      #print(title_list)\n",
        "      tmp = []\n",
        "      for tag in title_list:\n",
        "        tmp.append(tag.text)\n",
        "      contents.append((''.join(tmp),url + '?where='+w))\n",
        "      tmp.clear()\n",
        "    #print(contents)\n",
        "    return contents\n",
        "\n",
        "\n",
        "\n",
        "  def question(self, questions, max_rank = 5):\n",
        "    answers = {}\n",
        "    for question in questions:\n",
        "        print(f\"Question: {question}\")\n",
        "\n",
        "        contents = []\n",
        "        contents.extend(self.__search_from_naver(question,max_rank))\n",
        "        contents.extend(self.__search_from_wiki(question,max_rank))\n",
        "        #contents.append((G_TEXT,\"page\"))\n",
        "        src_count = len(contents)\n",
        "        pb = ProgressBar(total=src_count+1,prefix='Searching answers...')\n",
        "        pb.printProgress(0,str(src_count)+' of sources')\n",
        "        #print('-- Source count : ', len(contents))\n",
        "        answer = AnswerVoter()\n",
        "        if self.embedder is None:\n",
        "            for context, src in contents:\n",
        "                #text = contents[idx][0]\n",
        "                pb.printProgress(+1,src)\n",
        "                #print('-- source :', contents[idx][1])\n",
        "                try:\n",
        "                    self.reader.tokenize(question, context)\n",
        "                    self.reader.get_answer(answer,src,pb)\n",
        "                    #answer.add_src(contents[idx][1])\n",
        "                    #t = (self.reader.get_answer(answer),contents[idx][1])\n",
        "                    #print(f\"Answer: {t[0]}\", f\" from {t[1]}\")\n",
        "                    #answer_list.append(t)\n",
        "                except Exception as ex:\n",
        "                    #pb.printProgress(0,sys.exc_info()[0])\n",
        "                    print(ex,sys.exc_info())\n",
        "                    #pass\n",
        "        else:\n",
        "            corpus_embeddings = self.embedder.encode([a for (a,b) in contents],show_progress_bar=False)\n",
        "            query_embeddings = self.embedder.encode([question])\n",
        "            distances = scipy.spatial.distance.cdist(query_embeddings, corpus_embeddings, \"cosine\")[0]\n",
        "\n",
        "            results = zip(range(len(distances)), distances)\n",
        "            results = sorted(results, key=lambda x: x[1])\n",
        "\n",
        "\n",
        "            for idx, distance in results:\n",
        "                context = contents[idx][0]\n",
        "                pb.printProgress(+1,contents[idx][1])\n",
        "                #print('-- source :', contents[idx][1])\n",
        "                try:\n",
        "                    self.reader.tokenize(question, context)\n",
        "                    self.reader.get_answer(answer,contents[idx][1],pb)\n",
        "                    #answer.add_src(contents[idx][1])\n",
        "                    #t = (self.reader.get_answer(answer),contents[idx][1])\n",
        "                    #print(f\"Answer: {t[0]}\", f\" from {t[1]}\")\n",
        "                    #answer_list.append(t)\n",
        "\n",
        "                except Exception as ex:\n",
        "                    #pb.printProgress(0,sys.exc_info()[0])\n",
        "                    print(ex,sys.exc_info())\n",
        "                    #pass\n",
        "        answers[question] = answer.get_ans()\n",
        "        pb.printProgress(+1,\"완료\")\n",
        "        answer.print()\n",
        "        print(' ')\n",
        "    return answers\n"
      ],
      "execution_count": 36,
      "outputs": []
    },
    {
      "cell_type": "code",
      "metadata": {
        "id": "r5Uu_CZhgFVk"
      },
      "source": [
        "kqaw = Korean_QA_on_Wiki(DocumentReader(tokenizer,model), embedder)"
      ],
      "execution_count": 37,
      "outputs": []
    },
    {
      "cell_type": "code",
      "metadata": {
        "colab": {
          "base_uri": "https://localhost:8080/"
        },
        "id": "-vcd67iu3v2L",
        "outputId": "e5fc0585-4f00-49b5-d81f-d38ec3d9644e"
      },
      "source": [
        "answers = kqaw.question([\"베트남에서 가장 인기있는 관광지는 어디인가요?\"])"
      ],
      "execution_count": 39,
      "outputs": [
        {
          "output_type": "stream",
          "name": "stdout",
          "text": [
            "Question: 베트남에서 가장 인기있는 관광지는 어디인가요?\n",
            "Searching answers... |████████████████████| 100.0%   완료\n",
            "Answer: 호치민시와 하노이  score: 11.120749473571777  source: ['https://search.naver.com/search.naver?where=view']\n",
            "Answer: 다낭  score: 10.792304039001465  source: ['https://search.naver.com/search.naver?where=news']\n",
            "Answer: 냐짱  score: 9.128152847290039  source: [<WikipediaPage '냐짱'>]\n",
            "Answer: 축구  score: 8.475028038024902  source: [<WikipediaPage '태국의 문화'>]\n",
            "Answer: 호치민  score: 6.090912818908691  source: ['https://search.naver.com/search.naver?where=kin']\n",
            " \n"
          ]
        }
      ]
    },
    {
      "cell_type": "code",
      "metadata": {
        "id": "WrVzd_ciOLMt",
        "outputId": "680c70f1-a0c6-4ffb-bcc6-41d08d163065",
        "colab": {
          "base_uri": "https://localhost:8080/"
        }
      },
      "source": [
        "answers = kqaw.question([\"베트남 다낭에서 맛집 한국식당 이름은?\"])"
      ],
      "execution_count": 40,
      "outputs": [
        {
          "output_type": "stream",
          "name": "stdout",
          "text": [
            "Question: 베트남 다낭에서 맛집 한국식당 이름은?\n",
            "Searching answers... |████████████████████| 100.0%   완료\n",
            " \n"
          ]
        }
      ]
    },
    {
      "cell_type": "code",
      "metadata": {
        "id": "qIyQ1Wr6QI3n",
        "outputId": "9cf8849d-64cd-4ce0-ea88-310414d3f01e",
        "colab": {
          "base_uri": "https://localhost:8080/"
        }
      },
      "source": [
        "answers = kqaw.question([\"코로나19는 언제 종식되는가?\"])"
      ],
      "execution_count": 41,
      "outputs": [
        {
          "output_type": "stream",
          "name": "stdout",
          "text": [
            "Question: 코로나19는 언제 종식되는가?\n",
            "Searching answers... |████████████████████| 100.0%   완료\n",
            "Answer: 6월 15일  score: 9.974505424499512  source: [<WikipediaPage '뉴질랜드의 코로나19 범유행'>]\n",
            " \n"
          ]
        }
      ]
    },
    {
      "cell_type": "code",
      "metadata": {
        "id": "HyzCu02dQo9u",
        "outputId": "92457a16-047d-4e47-c2ac-68f5755ef112",
        "colab": {
          "base_uri": "https://localhost:8080/"
        }
      },
      "source": [
        "answers = kqaw.question([\"아시아나IDT의 대표이사는 누구인가?\"])"
      ],
      "execution_count": 42,
      "outputs": [
        {
          "output_type": "stream",
          "name": "stdout",
          "text": [
            "Question: 아시아나IDT의 대표이사는 누구인가?\n",
            "Searching answers... |████████████████████| 100.0%   완료\n",
            "Answer: 박찬법  score: 11.626656532287598  source: ['https://search.naver.com/search.naver?where=kin']\n",
            "Answer: 박세창  score: 11.45822525024414  source: ['https://search.naver.com/search.naver?where=view']\n",
            "Answer: 한창수  score: 11.200672149658203  source: ['https://search.naver.com/search.naver?where=news']\n",
            "Answer: 금호고속, 금호산업  score: 3.114767551422119  source: ['https://search.naver.com/search.naver?where=kdic']\n",
            " \n"
          ]
        }
      ]
    },
    {
      "cell_type": "code",
      "metadata": {
        "id": "e9vfQ-3OQNz7",
        "outputId": "b5474585-fe15-47fc-f0a7-1cdafad741c9",
        "colab": {
          "base_uri": "https://localhost:8080/"
        }
      },
      "source": [
        "answers = kqaw.question([\"아시아나항공은 어디에 매각되는가?\"])"
      ],
      "execution_count": 43,
      "outputs": [
        {
          "output_type": "stream",
          "name": "stdout",
          "text": [
            "Question: 아시아나항공은 어디에 매각되는가?\n",
            "Searching answers... |████████████████████| 100.0%   완료\n",
            "Answer: 금호산업  score: 9.347007751464844  source: ['https://search.naver.com/search.naver?where=kdic']\n",
            "Answer: 대한항공  score: 7.730260372161865  source: ['https://search.naver.com/search.naver?where=news']\n",
            "Answer: 금호아시아나그룹  score: 5.6735758781433105  source: ['https://search.naver.com/search.naver?where=kin']\n",
            " \n"
          ]
        }
      ]
    },
    {
      "cell_type": "code",
      "metadata": {
        "colab": {
          "base_uri": "https://localhost:8080/"
        },
        "id": "rCnEX6uzgHn5",
        "outputId": "ca422128-79b0-4ab3-ce22-2f22d59f396e"
      },
      "source": [
        "answers = kqaw.question([\"북한에서 실질적인 권력자는 누구인가?\",\n",
        "                           \"세계에서 가장 넓은 호수는?\",\n",
        "                           \"오로라가 가장 잘 보이는 곳은?\",\n",
        "                           \"심장이 죄어오듯이 아프면 의심되는 병은 무엇인가?\",\n",
        "                           \"항문에서 피가 나는 병은 무엇인가?\",\n",
        "                           \"김재규는 박정희를 왜 죽였는가?\",\n",
        "                           \"케네디를 죽인 암살범은 누구인가?\",\n",
        "                           \"술 취하지 않는 방법은?\",\n",
        "                           \"사람을 사랑해서 생기는 병은?\",\n",
        "                           \"부모는 자식을 왜 사랑하는가?\",\n",
        "                           \"나의 와이프는 나를 사랑하는가?\",\n",
        "                           \"신은 존재 하는가?\",\n",
        "                           \"사람의 인생에서 가장 소중한 것은 무엇인가?\",\n",
        "                           \"바람난 여자는 다시 돌아올 수 있는가?\",\n",
        "                           \"위가 쓰리고 아플 때 어떤 약을 복용해야 하는가?\",\n",
        "                           \"눈알이 빠지면 어떻게 되는가?\"])"
      ],
      "execution_count": 44,
      "outputs": [
        {
          "output_type": "stream",
          "name": "stdout",
          "text": [
            "Question: 북한에서 실질적인 권력자는 누구인가?\n",
            "Searching answers... |████████████████████| 100.0%   완료\n",
            "Answer: 총비서  score: 6.773006439208984  source: ['https://search.naver.com/search.naver?where=news']\n",
            " \n",
            "Question: 세계에서 가장 넓은 호수는?\n",
            "Searching answers... |████████████████████| 100.0%   완료\n",
            "Answer: 카스피해  score: 21.056517601013184  source: ['https://search.naver.com/search.naver?where=kin', <WikipediaPage '호수'>]\n",
            "Answer: 빅토리아호  score: 19.68979263305664  source: [<WikipediaPage '빅토리아호'>, <WikipediaPage '아프리카 대호수'>]\n",
            "Answer: 바이칼 호수  score: 8.188878059387207  source: ['https://search.naver.com/search.naver?where=view']\n",
            "Answer: 바이칼호  score: 7.776245594024658  source: [<WikipediaPage '바이칼호'>]\n",
            "Answer: 티베트 자치구 남초호  score: 6.32595157623291  source: [<WikipediaPage '염호'>]\n",
            " \n",
            "Question: 오로라가 가장 잘 보이는 곳은?\n",
            "Searching answers... |████████████████████| 100.0%   완료\n",
            "Answer: 국제우주정거장  score: 9.926204681396484  source: ['https://search.naver.com/search.naver?where=news']\n",
            "Answer: 남극및 북극 양극지방  score: 8.935654640197754  source: [<WikipediaPage '오로라'>]\n",
            "Answer: 계란형 지대  score: 5.913589000701904  source: ['https://search.naver.com/search.naver?where=kin']\n",
            "Answer: 극지  score: 3.9479687213897705  source: ['https://search.naver.com/search.naver?where=kdic']\n",
            " \n",
            "Question: 심장이 죄어오듯이 아프면 의심되는 병은 무엇인가?\n",
            "Searching answers... |████████████████████| 100.0%   완료\n",
            "Answer: 만성염증  score: 9.611680030822754  source: ['https://search.naver.com/search.naver?where=view']\n",
            "Answer: 협심증  score: 9.160750389099121  source: ['https://search.naver.com/search.naver?where=kdic']\n",
            "Answer: 심장질환  score: 9.062118530273438  source: ['https://search.naver.com/search.naver?where=kin']\n",
            " \n",
            "Question: 항문에서 피가 나는 병은 무엇인가?\n",
            "Searching answers... |████████████████████| 100.0%   완료\n",
            "Answer: 변비  score: 7.4155049324035645  source: ['https://search.naver.com/search.naver?where=view']\n",
            " \n",
            "Question: 김재규는 박정희를 왜 죽였는가?\n",
            "Searching answers... |████████████████████| 100.0%   완료\n",
            "Answer: 10. 26 사건  score: 10.763331413269043  source: [<WikipediaPage '김재규'>]\n",
            " \n",
            "Question: 케네디를 죽인 암살범은 누구인가?\n",
            "Searching answers... |████████████████████| 100.0%   완료\n",
            "Answer: 리 하비 오스왈드  score: 9.39258861541748  source: ['https://search.naver.com/search.naver?where=kdic']\n",
            "Answer: 존 윌크스 부스  score: 8.798354148864746  source: [<WikipediaPage '에이브러햄 링컨 암살 사건'>]\n",
            "Answer: 리 하비 오스월드  score: 8.369279861450195  source: [<WikipediaPage '링컨과 케네디의 공통점'>]\n",
            "Answer: 오즈월드  score: 4.420900821685791  source: ['https://search.naver.com/search.naver?where=kin']\n",
            " \n",
            "Question: 술 취하지 않는 방법은?\n",
            "Searching answers... |████████████████████| 100.0%   완료\n",
            "Answer: 법을 행하는 수단  score: 10.711918830871582  source: [<WikipediaPage '법가'>]\n",
            "Answer: 술자리를 피하거나 술자리를 일찍 파하거나  score: 7.406626224517822  source: ['https://search.naver.com/search.naver?where=news']\n",
            "Answer: 해모수  score: 7.032012462615967  source: [<WikipediaPage '전통주'>]\n",
            " \n",
            "Question: 사람을 사랑해서 생기는 병은?\n",
            "Searching answers... |████████████████████| 100.0%   완료\n",
            "Answer: 상사병  score: 7.62470006942749  source: ['https://search.naver.com/search.naver?where=kin']\n",
            "Answer: 질투 본능  score: 7.288697719573975  source: ['https://search.naver.com/search.naver?where=view']\n",
            "Answer: 정신착란증  score: 7.133552074432373  source: [<WikipediaPage '로드 넘버원'>]\n",
            "Answer: TV는 사랑을 싣고  score: 5.275008201599121  source: [<WikipediaPage 'TV는 사랑을 싣고'>]\n",
            " \n",
            "Question: 부모는 자식을 왜 사랑하는가?\n",
            "Searching answers... |████████████████████| 100.0%   완료\n",
            " \n",
            "Question: 나의 와이프는 나를 사랑하는가?\n",
            "Searching answers... |████████████████████| 100.0%   완료\n",
            " \n",
            "Question: 신은 존재 하는가?\n",
            "Searching answers... |████████████████████| 100.0%   완료\n",
            "Answer: 자연적 혹은 초자연적 존재  score: 4.575040817260742  source: [<WikipediaPage '신'>]\n",
            " \n",
            "Question: 사람의 인생에서 가장 소중한 것은 무엇인가?\n",
            "Searching answers... |████████████████████| 100.0%   완료\n",
            "Answer: 사랑  score: 6.234335422515869  source: ['https://search.naver.com/search.naver?where=news']\n",
            " \n",
            "Question: 바람난 여자는 다시 돌아올 수 있는가?\n",
            "Searching answers... |████████████████████| 100.0%   완료\n",
            " \n",
            "Question: 위가 쓰리고 아플 때 어떤 약을 복용해야 하는가?\n",
            "Searching answers... |████████████████████| 100.0%   완료\n",
            "Answer: 양 약  score: 9.734686851501465  source: ['https://search.naver.com/search.naver?where=kin']\n",
            "Answer: 부신피질 호르몬제  score: 4.451408863067627  source: ['https://search.naver.com/search.naver?where=kdic']\n",
            " \n",
            "Question: 눈알이 빠지면 어떻게 되는가?\n",
            "Searching answers... |████████████████████| 100.0%   완료\n",
            "Answer: 도탄  score: 6.569200038909912  source: [<WikipediaPage '렐파첸'>]\n",
            "Answer: 익사  score: 5.11966609954834  source: ['https://search.naver.com/search.naver?where=kin']\n",
            " \n"
          ]
        }
      ]
    },
    {
      "cell_type": "code",
      "metadata": {
        "id": "F6qwf2zGp9N3",
        "colab": {
          "base_uri": "https://localhost:8080/"
        },
        "outputId": "875306a4-db56-4f84-bb92-7c068ffd1b72"
      },
      "source": [
        "answers = kqaw.question([\"아시아나항공은 어디에 매각될 것인가?\",\n",
        "                         \"박세창은 어느 회사의 사장인가?\"])"
      ],
      "execution_count": 45,
      "outputs": [
        {
          "output_type": "stream",
          "name": "stdout",
          "text": [
            "Question: 아시아나항공은 어디에 매각될 것인가?\n",
            "Searching answers... |████████████████████| 100.0%   완료\n",
            "Answer: 금호산업  score: 8.035517692565918  source: ['https://search.naver.com/search.naver?where=kdic']\n",
            " \n",
            "Question: 박세창은 어느 회사의 사장인가?\n",
            "Searching answers... |████████████████████| 100.0%   완료\n",
            "Answer: 아시아나IDT  score: 18.40152931213379  source: ['https://search.naver.com/search.naver?where=news', 'https://search.naver.com/search.naver?where=view']\n",
            "Answer: 삼화교통  score: 9.245410919189453  source: [<WikipediaPage '박인천'>]\n",
            " \n"
          ]
        }
      ]
    },
    {
      "cell_type": "code",
      "metadata": {
        "id": "lRM7VQaRqzt0",
        "colab": {
          "base_uri": "https://localhost:8080/"
        },
        "outputId": "c5bb6cab-67fa-447b-c970-a8d8d7fdd37e"
      },
      "source": [
        "answers = kqaw.question([\"아시아나항공 사장의 이름은?\",\n",
        "                         \"금호건설의 사장은 누구인가?\"])"
      ],
      "execution_count": 46,
      "outputs": [
        {
          "output_type": "stream",
          "name": "stdout",
          "text": [
            "Question: 아시아나항공 사장의 이름은?\n",
            "Searching answers... |████████████████████| 100.0%   완료\n",
            "Answer: 전펑  score: 10.870772361755371  source: ['https://search.naver.com/search.naver?where=kdic']\n",
            "Answer: 조원태  score: 8.332274436950684  source: [<WikipediaPage '조원태'>]\n",
            " \n",
            "Question: 금호건설의 사장은 누구인가?\n",
            "Searching answers... |████████████████████| 100.0%   완료\n",
            "Answer: 박세창  score: 10.947713851928711  source: ['https://search.naver.com/search.naver?where=view']\n",
            "Answer: △서재환  score: 8.246779441833496  source: ['https://search.naver.com/search.naver?where=news']\n",
            "Answer: 대우건설인수, 효성의 하이닉스 인수실패등등. 많은 사례에서 채권단이 크게 배울만큼 배웠고 생각보다는 현대그룹도... 포스코건설, 대림, sk건설, 롯데건설, 금호건설, 태영건설, 계룡건설 연봉 복지 좋은곳부터 순서대로 나열좀해줘요... 그래서 중소기업 사장이 힘든 거에요. 대기업 구매팀 젊은 대리 과장한테 굽신굽신 거려야 됩니다. X같아요. 공무원 갑질이 일어나는 구조적... 다 비슷한데 누굴 줘요. 만만하고 착하고 작년에 승진한 사람 그냥 주는 겁니다. 그리고 내년에 SA줘서 연봉 상승률 복구되게 해주는 거죠.... 인하대 교과면접. 말그대로 인하대 교과면접말인데요... 제가 사회인프라공학과를 지원했는데 교과면접에 학생부반영되나요?? 교과는아니다고들었는데 진로선생님께서 들어가신다고하셔서,,, 그리고 면접 준비법도좀 알려주세요,,,... 1 - 1 ] 건설분야 CAE 소프트웨어 관련 KCC건설 추천 금호건설 캠리 안전행정부 공직 채용 설명... = = = = = = = = = = = = = = = = = = = = = = = = = = = = = = = = = = = = = = = = = = = 건설사 임원, 그들은 누구인가 2016. 04. 25 우리나라 건설업계를... 박상인 고양도시관리공사 사장직무대행은 “ 수상팀이 제안한 창의적 [SEP]  score: 5.320662021636963  source: ['https://search.naver.com/search.naver?where=kin']\n",
            "Answer: 이명박  score: 4.69085168838501  source: ['https://search.naver.com/search.naver?where=kdic']\n",
            " \n"
          ]
        }
      ]
    },
    {
      "cell_type": "code",
      "metadata": {
        "id": "hwq_CRCDG-4S",
        "colab": {
          "base_uri": "https://localhost:8080/"
        },
        "outputId": "8dc56d35-966e-473c-8983-b9a64528bfa9"
      },
      "source": [
        "# 한진중공업 매각 우선협상대상자\n",
        "answers = kqaw.question([\"한진중공업 매각 우선협상대상자는 어디인가?\"])"
      ],
      "execution_count": 47,
      "outputs": [
        {
          "output_type": "stream",
          "name": "stdout",
          "text": [
            "Question: 한진중공업 매각 우선협상대상자는 어디인가?\n",
            "Searching answers... |████████████████████| 100.0%   완료\n",
            "Answer: 동부건설 컨소시엄  score: 11.790081977844238  source: ['https://search.naver.com/search.naver?where=news']\n",
            "Answer: JKL파트너스  score: 10.622962951660156  source: ['https://search.naver.com/search.naver?where=kin']\n",
            "Answer: 동부건설 컨소시엄이 우선협상대상자로 선정됐다. 한진중공업은 1937년 설립된 최초의 조선소이자, 그동안 대한민국... 한진중공업 매각, 우선협상대상자... 동부건설 선정온갖 소문이 난무했던 한진중공업 매각은 최종적으로 동부건설  score: 5.739238262176514  source: ['https://search.naver.com/search.naver?where=view']\n",
            " \n"
          ]
        }
      ]
    },
    {
      "cell_type": "code",
      "metadata": {
        "id": "8qIRQgHSrZo8",
        "colab": {
          "base_uri": "https://localhost:8080/"
        },
        "outputId": "f456bee3-eb0d-4988-f0b7-c50bb3a15843"
      },
      "source": [
        "answers = kqaw.question([\"아파트 값은 계속 오를 것인가?\",\n",
        "                         \"코로나는 언제 종식 될 것인가?\"])"
      ],
      "execution_count": 48,
      "outputs": [
        {
          "output_type": "stream",
          "name": "stdout",
          "text": [
            "Question: 아파트 값은 계속 오를 것인가?\n",
            "Searching answers... |████████████████████| 100.0%   완료\n",
            "Answer: 해모로  score: 6.334014415740967  source: [<WikipediaPage 'HJ중공업'>]\n",
            " \n",
            "Question: 코로나는 언제 종식 될 것인가?\n",
            "Searching answers... |████████████████████| 100.0%   완료\n",
            "Answer: 6월 15일  score: 9.592249870300293  source: [<WikipediaPage '뉴질랜드의 코로나19 범유행'>]\n",
            " \n"
          ]
        }
      ]
    },
    {
      "cell_type": "code",
      "metadata": {
        "id": "1ARRfo7-sgSJ",
        "colab": {
          "base_uri": "https://localhost:8080/"
        },
        "outputId": "83a607dc-4d12-4720-fa24-ef85b46b6cb3"
      },
      "source": [
        "answers = kqaw.question([\"단백질의 화학식 구성은 어떻게 되는가?\"])"
      ],
      "execution_count": 49,
      "outputs": [
        {
          "output_type": "stream",
          "name": "stdout",
          "text": [
            "Question: 단백질의 화학식 구성은 어떻게 되는가?\n",
            "Searching answers... |████████████████████| 100.0%   완료\n",
            "Answer: NH2CHRnCOOH ) n  score: 9.902149200439453  source: [<WikipediaPage '단백질'>]\n",
            "Answer: 알라닌  score: 3.8399808406829834  source: [<WikipediaPage '아미노산'>]\n",
            " \n"
          ]
        }
      ]
    },
    {
      "cell_type": "code",
      "metadata": {
        "id": "MbGFACCktHam",
        "colab": {
          "base_uri": "https://localhost:8080/"
        },
        "outputId": "7d3a7907-b449-421a-8666-4f2f65614f51"
      },
      "source": [
        "answers = kqaw.question([\"우리나라 특허의 권리보장 기간은 몇년인가?\"])"
      ],
      "execution_count": 50,
      "outputs": [
        {
          "output_type": "stream",
          "name": "stdout",
          "text": [
            "Question: 우리나라 특허의 권리보장 기간은 몇년인가?\n",
            "Searching answers... |████████████████████| 100.0%   완료\n",
            "Answer: 20년  score: 13.85037636756897  source: ['https://search.naver.com/search.naver?where=kdic', 'https://search.naver.com/search.naver?where=view']\n",
            "Answer: 2 ~ 3년  score: 4.400360584259033  source: ['https://search.naver.com/search.naver?where=news']\n",
            " \n"
          ]
        }
      ]
    },
    {
      "cell_type": "code",
      "metadata": {
        "id": "Srh6Zf5TtgcQ",
        "colab": {
          "base_uri": "https://localhost:8080/"
        },
        "outputId": "16aeaf07-75c4-4f18-ae11-3766b0255a05"
      },
      "source": [
        "answers = kqaw.question([\"발열 마른기침 피로감 등의 증상을 보이면 어떤 병이 의심되는가?\"])"
      ],
      "execution_count": 51,
      "outputs": [
        {
          "output_type": "stream",
          "name": "stdout",
          "text": [
            "Question: 발열 마른기침 피로감 등의 증상을 보이면 어떤 병이 의심되는가?\n",
            "Searching answers... |████████████████████| 100.0%   완료\n",
            "Answer: 심장질환  score: 10.331414222717285  source: ['https://search.naver.com/search.naver?where=news']\n",
            "Answer: 광견병  score: 8.204215049743652  source: ['https://search.naver.com/search.naver?where=kdic']\n",
            "Answer: 기침  score: 4.397464275360107  source: [<WikipediaPage '코로나19 범유행'>]\n",
            " \n"
          ]
        }
      ]
    },
    {
      "cell_type": "code",
      "metadata": {
        "id": "UjYnN2Ggt4ER",
        "colab": {
          "base_uri": "https://localhost:8080/"
        },
        "outputId": "d8974bda-5cd5-4610-bffc-3ea642233fc1"
      },
      "source": [
        "answers = kqaw.question([\"흉부통증과 호흡곤란, 쉰목소리, 가끔 피가 썩인 가래도 있습니다. 어떤 병일까요?\"])"
      ],
      "execution_count": 53,
      "outputs": [
        {
          "output_type": "stream",
          "name": "stdout",
          "text": [
            "Question: 흉부통증과 호흡곤란, 쉰목소리, 가끔 피가 썩인 가래도 있습니다. 어떤 병일까요?\n",
            "Searching answers... |████████████████████| 100.0%   완료\n",
            " \n"
          ]
        }
      ]
    },
    {
      "cell_type": "code",
      "metadata": {
        "id": "fhgIS5vtubVs",
        "colab": {
          "base_uri": "https://localhost:8080/"
        },
        "outputId": "8799bd77-0190-4bf4-ef24-7f04ca4b96a6"
      },
      "source": [
        "answers = kqaw.question([\"똥을 싸고 나면 휴지에 피가 뭍습니다. 의심되는 병은 무엇인가요?\"])"
      ],
      "execution_count": 54,
      "outputs": [
        {
          "output_type": "stream",
          "name": "stdout",
          "text": [
            "Question: 똥을 싸고 나면 휴지에 피가 뭍습니다. 의심되는 병은 무엇인가요?\n",
            "Searching answers... |████████████████████| 100.0%   완료\n",
            "Answer: 변비  score: 8.310355186462402  source: ['https://search.naver.com/search.naver?where=view']\n",
            "Answer: 치질  score: 6.736917972564697  source: ['https://search.naver.com/search.naver?where=kin']\n",
            " \n"
          ]
        }
      ]
    },
    {
      "cell_type": "code",
      "metadata": {
        "id": "b1clXBpGu0st",
        "colab": {
          "base_uri": "https://localhost:8080/"
        },
        "outputId": "66bc5e7d-fbab-428b-8b62-43de7835f362"
      },
      "source": [
        "answers = kqaw.question([\"신경망 알고리즘의 활성화 함수에는 어떤 것이 있나요?\"])"
      ],
      "execution_count": 55,
      "outputs": [
        {
          "output_type": "stream",
          "name": "stdout",
          "text": [
            "Question: 신경망 알고리즘의 활성화 함수에는 어떤 것이 있나요?\n",
            "Searching answers... |████████████████████| 100.0%   완료\n",
            "Answer: 입력 이미지의 픽셀  score: 10.152823448181152  source: [<WikipediaPage '인공 신경망'>]\n",
            "Answer: 뉴런 가중치  score: 8.611798286437988  source: ['https://search.naver.com/search.naver?where=news']\n",
            "Answer: 도함수  score: 8.3803071975708  source: [<WikipediaPage '기울기 소멸 문제'>]\n",
            "Answer: 뉴런  score: 7.798391819000244  source: [<WikipediaPage '퍼셉트론'>]\n",
            "Answer: 미분  score: 3.88582444190979  source: ['https://search.naver.com/search.naver?where=kin']\n",
            " \n"
          ]
        }
      ]
    },
    {
      "cell_type": "code",
      "metadata": {
        "id": "eIBSD9HcvITx",
        "colab": {
          "base_uri": "https://localhost:8080/"
        },
        "outputId": "c9192165-a379-4398-fffb-76a2e3d5ff08"
      },
      "source": [
        "answers = kqaw.question([\"현존하는 인공지능 중 가장 성능이 우수한 것은 무엇입니까?\"])"
      ],
      "execution_count": 56,
      "outputs": [
        {
          "output_type": "stream",
          "name": "stdout",
          "text": [
            "Question: 현존하는 인공지능 중 가장 성능이 우수한 것은 무엇입니까?\n",
            "Searching answers... |████████████████████| 100.0%   완료\n",
            "Answer: 칩셋  score: 10.755560874938965  source: ['https://search.naver.com/search.naver?where=view']\n",
            "Answer: 대화 언어 모델  score: 9.125129699707031  source: ['https://search.naver.com/search.naver?where=news']\n",
            " \n"
          ]
        }
      ]
    },
    {
      "cell_type": "code",
      "metadata": {
        "id": "RVxLa0T0vhAV",
        "colab": {
          "base_uri": "https://localhost:8080/"
        },
        "outputId": "d7ddf530-e750-4293-83cf-21ed26310fa7"
      },
      "source": [
        "answers = kqaw.question([\"이세돌을 이긴 것은 무엇입니까?\"])"
      ],
      "execution_count": 57,
      "outputs": [
        {
          "output_type": "stream",
          "name": "stdout",
          "text": [
            "Question: 이세돌을 이긴 것은 무엇입니까?\n",
            "Searching answers... |████████████████████| 100.0%   완료\n",
            "Answer: 알파고  score: 8.71656322479248  source: ['https://search.naver.com/search.naver?where=view', 'https://search.naver.com/search.naver?where=kin']\n",
            " \n"
          ]
        }
      ]
    },
    {
      "cell_type": "code",
      "metadata": {
        "id": "Ay5GzjELwAG-",
        "colab": {
          "base_uri": "https://localhost:8080/"
        },
        "outputId": "f462914f-ec06-4aa0-b0eb-9eb8d3f9b863"
      },
      "source": [
        "answers = kqaw.question([\"피타고라스는 어느 나라 사람인가?\"])"
      ],
      "execution_count": 58,
      "outputs": [
        {
          "output_type": "stream",
          "name": "stdout",
          "text": [
            "Question: 피타고라스는 어느 나라 사람인가?\n",
            "Searching answers... |████████████████████| 100.0%   완료\n",
            "Answer: 그리스  score: 20.505011558532715  source: ['https://search.naver.com/search.naver?where=kin', 'https://search.naver.com/search.naver?where=view', 'https://search.naver.com/search.naver?where=news']\n",
            " \n"
          ]
        }
      ]
    },
    {
      "cell_type": "code",
      "metadata": {
        "id": "h43Zxml-wSWs",
        "colab": {
          "base_uri": "https://localhost:8080/"
        },
        "outputId": "2154a740-6ac4-431c-ca5d-c5246bfddd00"
      },
      "source": [
        "answers = kqaw.question([\"아이즈원 멤버 인원수는?\"])"
      ],
      "execution_count": 59,
      "outputs": [
        {
          "output_type": "stream",
          "name": "stdout",
          "text": [
            "Question: 아이즈원 멤버 인원수는?\n",
            "Searching answers... |████████████████████| 100.0%   완료\n",
            "Answer: 12명  score: 11.783061027526855  source: ['https://search.naver.com/search.naver?where=news']\n",
            "Answer: 6명  score: 11.573765754699707  source: ['https://search.naver.com/search.naver?where=view']\n",
            "Answer: 8명  score: 8.347689628601074  source: ['https://search.naver.com/search.naver?where=kin']\n",
            " \n"
          ]
        }
      ]
    },
    {
      "cell_type": "code",
      "metadata": {
        "id": "L96Ik9MawxRd",
        "colab": {
          "base_uri": "https://localhost:8080/"
        },
        "outputId": "68babe2a-77fb-4b86-f695-7d8f84226d0c"
      },
      "source": [
        "answers = kqaw.question([\"트와이스 중에 가장 인기 있는 사람은?\"])"
      ],
      "execution_count": 60,
      "outputs": [
        {
          "output_type": "stream",
          "name": "stdout",
          "text": [
            "Question: 트와이스 중에 가장 인기 있는 사람은?\n",
            "Searching answers... |████████████████████| 100.0%   완료\n",
            "Answer: 박진영  score: 9.681979179382324  source: [<WikipediaPage '박진영'>]\n",
            "Answer: 나연  score: 9.32990550994873  source: [<WikipediaPage '나연'>]\n",
            "Answer: 가는 세월  score: 8.899544715881348  source: ['https://search.naver.com/search.naver?where=kdic']\n",
            "Answer: 뉴진스  score: 8.232033729553223  source: ['https://search.naver.com/search.naver?where=news']\n",
            "Answer: 사나  score: 6.566624164581299  source: [<WikipediaPage '사나 (일본의 가수)'>]\n",
            " \n"
          ]
        }
      ]
    },
    {
      "cell_type": "code",
      "metadata": {
        "id": "Ni_mSMGTxnFi",
        "colab": {
          "base_uri": "https://localhost:8080/"
        },
        "outputId": "4e0784be-a463-45dd-dd0e-1a04efb675da"
      },
      "source": [
        "answers = kqaw.question([\"벤츠 자동차가 처음 발명된 년도는?\"])"
      ],
      "execution_count": 61,
      "outputs": [
        {
          "output_type": "stream",
          "name": "stdout",
          "text": [
            "Question: 벤츠 자동차가 처음 발명된 년도는?\n",
            "Searching answers... |████████████████████| 100.0%   완료\n",
            "Answer: 1886년  score: 11.372413635253906  source: [<WikipediaPage '만하임'>]\n",
            "Answer: 1883년  score: 10.976832389831543  source: ['https://search.naver.com/search.naver?where=kin']\n",
            "Answer: 1885년  score: 10.761576652526855  source: [<WikipediaPage '자동차'>]\n",
            "Answer: 2008년  score: 9.288729667663574  source: ['https://search.naver.com/search.naver?where=news']\n",
            " \n"
          ]
        }
      ]
    },
    {
      "cell_type": "code",
      "metadata": {
        "id": "mfivYMWWydC6",
        "colab": {
          "base_uri": "https://localhost:8080/"
        },
        "outputId": "a71344b3-a631-4bf1-f7d0-d66bdb10abcc"
      },
      "source": [
        "answers = kqaw.question([\"교통사고 대비를 위해 들어야 하는 보험은 무엇인가?\"])"
      ],
      "execution_count": 62,
      "outputs": [
        {
          "output_type": "stream",
          "name": "stdout",
          "text": [
            "Question: 교통사고 대비를 위해 들어야 하는 보험은 무엇인가?\n",
            "Searching answers... |████████████████████| 100.0%   완료\n",
            "Answer: 개인보험 개인보험  score: 10.217618942260742  source: ['https://search.naver.com/search.naver?where=kdic']\n",
            "Answer: 후유 장애 보험  score: 7.257519245147705  source: ['https://search.naver.com/search.naver?where=news']\n",
            "Answer: 운전자보험  score: 4.809130668640137  source: ['https://search.naver.com/search.naver?where=kin']\n",
            "Answer: 운전자보험교통사고위로금  score: 4.487279891967773  source: ['https://search.naver.com/search.naver?where=view']\n",
            " \n"
          ]
        }
      ]
    },
    {
      "cell_type": "code",
      "metadata": {
        "id": "SZojgWg1zQVz",
        "outputId": "91d0c752-0147-4295-a9ae-fce214604302",
        "colab": {
          "base_uri": "https://localhost:8080/"
        }
      },
      "source": [
        "answers = kqaw.question([\"너의 이름은 무엇이니?\"])"
      ],
      "execution_count": 63,
      "outputs": [
        {
          "output_type": "stream",
          "name": "stdout",
          "text": [
            "Question: 너의 이름은 무엇이니?\n",
            "Searching answers... |████████████████████| 100.0%   완료\n",
            "Answer: 식물의 이름  score: 11.028470039367676  source: ['https://search.naver.com/search.naver?where=news']\n",
            "Answer: 고등학생  score: 4.949797630310059  source: [<WikipediaPage '물음표'>]\n",
            " \n"
          ]
        }
      ]
    },
    {
      "cell_type": "code",
      "metadata": {
        "id": "7jRkKp0A0DIN",
        "outputId": "1db59536-bd29-4886-84e5-fefdc7e6059d",
        "colab": {
          "base_uri": "https://localhost:8080/"
        }
      },
      "source": [
        "answers = kqaw.question([\"너는 남자니 여자니?\"])"
      ],
      "execution_count": 64,
      "outputs": [
        {
          "output_type": "stream",
          "name": "stdout",
          "text": [
            "Question: 너는 남자니 여자니?\n",
            "Searching answers... |████████████████████| 100.0%   완료\n",
            " \n"
          ]
        }
      ]
    },
    {
      "cell_type": "markdown",
      "metadata": {
        "id": "bDssSlN7hOSB"
      },
      "source": [
        "#KorQuad2.0 학습.\n",
        "\n",
        "https://github.com/huggingface/datasets\n",
        "\n",
        "https://huggingface.co/transformers/custom_datasets.html#qa-squad\n",
        "\n"
      ]
    },
    {
      "cell_type": "code",
      "metadata": {
        "colab": {
          "base_uri": "https://localhost:8080/",
          "height": 362
        },
        "id": "68_TJLJC2toq",
        "outputId": "f7ab2cc0-9e47-45f7-a380-489c243a0082"
      },
      "source": [
        "\n",
        "if True:\n",
        "    from google.colab import drive\n",
        "    drive.mount('/content/drive')"
      ],
      "execution_count": 35,
      "outputs": [
        {
          "output_type": "error",
          "ename": "MessageError",
          "evalue": "ignored",
          "traceback": [
            "\u001b[0;31m---------------------------------------------------------------------------\u001b[0m",
            "\u001b[0;31mMessageError\u001b[0m                              Traceback (most recent call last)",
            "\u001b[0;32m<ipython-input-35-48288042817a>\u001b[0m in \u001b[0;36m<cell line: 1>\u001b[0;34m()\u001b[0m\n\u001b[1;32m      1\u001b[0m \u001b[0;32mif\u001b[0m \u001b[0;32mTrue\u001b[0m\u001b[0;34m:\u001b[0m\u001b[0;34m\u001b[0m\u001b[0;34m\u001b[0m\u001b[0m\n\u001b[1;32m      2\u001b[0m     \u001b[0;32mfrom\u001b[0m \u001b[0mgoogle\u001b[0m\u001b[0;34m.\u001b[0m\u001b[0mcolab\u001b[0m \u001b[0;32mimport\u001b[0m \u001b[0mdrive\u001b[0m\u001b[0;34m\u001b[0m\u001b[0;34m\u001b[0m\u001b[0m\n\u001b[0;32m----> 3\u001b[0;31m     \u001b[0mdrive\u001b[0m\u001b[0;34m.\u001b[0m\u001b[0mmount\u001b[0m\u001b[0;34m(\u001b[0m\u001b[0;34m'/content/drive'\u001b[0m\u001b[0;34m)\u001b[0m\u001b[0;34m\u001b[0m\u001b[0;34m\u001b[0m\u001b[0m\n\u001b[0m",
            "\u001b[0;32m/usr/local/lib/python3.10/dist-packages/google/colab/drive.py\u001b[0m in \u001b[0;36mmount\u001b[0;34m(mountpoint, force_remount, timeout_ms, readonly)\u001b[0m\n\u001b[1;32m    101\u001b[0m \u001b[0;32mdef\u001b[0m \u001b[0mmount\u001b[0m\u001b[0;34m(\u001b[0m\u001b[0mmountpoint\u001b[0m\u001b[0;34m,\u001b[0m \u001b[0mforce_remount\u001b[0m\u001b[0;34m=\u001b[0m\u001b[0;32mFalse\u001b[0m\u001b[0;34m,\u001b[0m \u001b[0mtimeout_ms\u001b[0m\u001b[0;34m=\u001b[0m\u001b[0;36m120000\u001b[0m\u001b[0;34m,\u001b[0m \u001b[0mreadonly\u001b[0m\u001b[0;34m=\u001b[0m\u001b[0;32mFalse\u001b[0m\u001b[0;34m)\u001b[0m\u001b[0;34m:\u001b[0m\u001b[0;34m\u001b[0m\u001b[0;34m\u001b[0m\u001b[0m\n\u001b[1;32m    102\u001b[0m   \u001b[0;34m\"\"\"Mount your Google Drive at the specified mountpoint path.\"\"\"\u001b[0m\u001b[0;34m\u001b[0m\u001b[0;34m\u001b[0m\u001b[0m\n\u001b[0;32m--> 103\u001b[0;31m   return _mount(\n\u001b[0m\u001b[1;32m    104\u001b[0m       \u001b[0mmountpoint\u001b[0m\u001b[0;34m,\u001b[0m\u001b[0;34m\u001b[0m\u001b[0;34m\u001b[0m\u001b[0m\n\u001b[1;32m    105\u001b[0m       \u001b[0mforce_remount\u001b[0m\u001b[0;34m=\u001b[0m\u001b[0mforce_remount\u001b[0m\u001b[0;34m,\u001b[0m\u001b[0;34m\u001b[0m\u001b[0;34m\u001b[0m\u001b[0m\n",
            "\u001b[0;32m/usr/local/lib/python3.10/dist-packages/google/colab/drive.py\u001b[0m in \u001b[0;36m_mount\u001b[0;34m(mountpoint, force_remount, timeout_ms, ephemeral, readonly)\u001b[0m\n\u001b[1;32m    130\u001b[0m   )\n\u001b[1;32m    131\u001b[0m   \u001b[0;32mif\u001b[0m \u001b[0mephemeral\u001b[0m\u001b[0;34m:\u001b[0m\u001b[0;34m\u001b[0m\u001b[0;34m\u001b[0m\u001b[0m\n\u001b[0;32m--> 132\u001b[0;31m     _message.blocking_request(\n\u001b[0m\u001b[1;32m    133\u001b[0m         \u001b[0;34m'request_auth'\u001b[0m\u001b[0;34m,\u001b[0m \u001b[0mrequest\u001b[0m\u001b[0;34m=\u001b[0m\u001b[0;34m{\u001b[0m\u001b[0;34m'authType'\u001b[0m\u001b[0;34m:\u001b[0m \u001b[0;34m'dfs_ephemeral'\u001b[0m\u001b[0;34m}\u001b[0m\u001b[0;34m,\u001b[0m \u001b[0mtimeout_sec\u001b[0m\u001b[0;34m=\u001b[0m\u001b[0;32mNone\u001b[0m\u001b[0;34m\u001b[0m\u001b[0;34m\u001b[0m\u001b[0m\n\u001b[1;32m    134\u001b[0m     )\n",
            "\u001b[0;32m/usr/local/lib/python3.10/dist-packages/google/colab/_message.py\u001b[0m in \u001b[0;36mblocking_request\u001b[0;34m(request_type, request, timeout_sec, parent)\u001b[0m\n\u001b[1;32m    174\u001b[0m       \u001b[0mrequest_type\u001b[0m\u001b[0;34m,\u001b[0m \u001b[0mrequest\u001b[0m\u001b[0;34m,\u001b[0m \u001b[0mparent\u001b[0m\u001b[0;34m=\u001b[0m\u001b[0mparent\u001b[0m\u001b[0;34m,\u001b[0m \u001b[0mexpect_reply\u001b[0m\u001b[0;34m=\u001b[0m\u001b[0;32mTrue\u001b[0m\u001b[0;34m\u001b[0m\u001b[0;34m\u001b[0m\u001b[0m\n\u001b[1;32m    175\u001b[0m   )\n\u001b[0;32m--> 176\u001b[0;31m   \u001b[0;32mreturn\u001b[0m \u001b[0mread_reply_from_input\u001b[0m\u001b[0;34m(\u001b[0m\u001b[0mrequest_id\u001b[0m\u001b[0;34m,\u001b[0m \u001b[0mtimeout_sec\u001b[0m\u001b[0;34m)\u001b[0m\u001b[0;34m\u001b[0m\u001b[0;34m\u001b[0m\u001b[0m\n\u001b[0m",
            "\u001b[0;32m/usr/local/lib/python3.10/dist-packages/google/colab/_message.py\u001b[0m in \u001b[0;36mread_reply_from_input\u001b[0;34m(message_id, timeout_sec)\u001b[0m\n\u001b[1;32m    101\u001b[0m     ):\n\u001b[1;32m    102\u001b[0m       \u001b[0;32mif\u001b[0m \u001b[0;34m'error'\u001b[0m \u001b[0;32min\u001b[0m \u001b[0mreply\u001b[0m\u001b[0;34m:\u001b[0m\u001b[0;34m\u001b[0m\u001b[0;34m\u001b[0m\u001b[0m\n\u001b[0;32m--> 103\u001b[0;31m         \u001b[0;32mraise\u001b[0m \u001b[0mMessageError\u001b[0m\u001b[0;34m(\u001b[0m\u001b[0mreply\u001b[0m\u001b[0;34m[\u001b[0m\u001b[0;34m'error'\u001b[0m\u001b[0;34m]\u001b[0m\u001b[0;34m)\u001b[0m\u001b[0;34m\u001b[0m\u001b[0;34m\u001b[0m\u001b[0m\n\u001b[0m\u001b[1;32m    104\u001b[0m       \u001b[0;32mreturn\u001b[0m \u001b[0mreply\u001b[0m\u001b[0;34m.\u001b[0m\u001b[0mget\u001b[0m\u001b[0;34m(\u001b[0m\u001b[0;34m'data'\u001b[0m\u001b[0;34m,\u001b[0m \u001b[0;32mNone\u001b[0m\u001b[0;34m)\u001b[0m\u001b[0;34m\u001b[0m\u001b[0;34m\u001b[0m\u001b[0m\n\u001b[1;32m    105\u001b[0m \u001b[0;34m\u001b[0m\u001b[0m\n",
            "\u001b[0;31mMessageError\u001b[0m: Error: credential propagation was unsuccessful"
          ]
        }
      ]
    },
    {
      "cell_type": "code",
      "metadata": {
        "id": "YzSMzhExV6A9"
      },
      "source": [
        "!pip install datasets"
      ],
      "execution_count": null,
      "outputs": []
    },
    {
      "cell_type": "code",
      "metadata": {
        "id": "o2UloPBTV0UY"
      },
      "source": [
        "from datasets import list_datasets, load_dataset, list_metrics, load_metric, load_from_disk\n",
        "\n",
        "# Print all the available datasets\n",
        "print(list_datasets())\n",
        "\n",
        "# Load a dataset and print the first example in the training set\n",
        "squad_dataset = load_dataset('squad_kor_v2',cache_dir ='/content/drive/MyDrive/korQuAD2.1/dataset')\n"
      ],
      "execution_count": null,
      "outputs": []
    },
    {
      "cell_type": "code",
      "metadata": {
        "id": "UVv5er7QHKCz"
      },
      "source": [
        "import json\n",
        "from pathlib import Path\n",
        "\n",
        "def read_squad(path):\n",
        "    path = Path(path)\n",
        "    with open(path, 'rb') as f:\n",
        "        squad_dict = json.load(f)\n",
        "\n",
        "    contexts = []\n",
        "    questions = []\n",
        "    answers = []\n",
        "    for group in squad_dict['data']:\n",
        "        for passage in group['paragraphs']:\n",
        "            context = passage['context']\n",
        "            for qa in passage['qas']:\n",
        "                question = qa['question']\n",
        "                for answer in qa['answers']:\n",
        "                    contexts.append(context)\n",
        "                    questions.append(question)\n",
        "                    answers.append(answer)\n",
        "\n",
        "    return contexts, questions, answers\n",
        "\n",
        "train_contexts, train_questions, train_answers = read_squad('/content/drive/MyDrive/korQuAD2.1/dataset/squad_kor_v2/squad_kor_v2/2.1.0/8e4ee4e5757761cf13f00b2d4e4cef2e842c0ea3c57050fec9fafc8fec60e128/squad_kor_v2-train.arrow')\n",
        "val_contexts, val_questions, val_answers = read_squad('/content/drive/MyDrive/korQuAD2.1/dataset/squad_kor_v2/squad_kor_v2/2.1.0/8e4ee4e5757761cf13f00b2d4e4cef2e842c0ea3c57050fec9fafc8fec60e128/squad_kor_v2-validation.arrow')"
      ],
      "execution_count": null,
      "outputs": []
    },
    {
      "cell_type": "code",
      "metadata": {
        "id": "KE7QZvOgWCVb"
      },
      "source": [
        "squad_dataset['train']"
      ],
      "execution_count": null,
      "outputs": []
    },
    {
      "cell_type": "code",
      "metadata": {
        "id": "OBzGOlw3knqJ"
      },
      "source": [
        "!pip install transformers"
      ],
      "execution_count": null,
      "outputs": []
    },
    {
      "cell_type": "code",
      "metadata": {
        "id": "alvcFdcakx_S"
      },
      "source": [
        "train_contexts = squad_dataset['train']['context']\n",
        "train_questions = squad_dataset['train']['question']\n",
        "train_answers = squad_dataset['train']['answer']"
      ],
      "execution_count": null,
      "outputs": []
    },
    {
      "cell_type": "code",
      "metadata": {
        "id": "Co3vmVvHlLNL"
      },
      "source": [
        "val_contexts = squad_dataset['validation']['context']\n",
        "val_questions = squad_dataset['validation']['question']\n",
        "val_answers = squad_dataset['validation']['answer']"
      ],
      "execution_count": null,
      "outputs": []
    },
    {
      "cell_type": "code",
      "metadata": {
        "id": "wMU9is1hmvgy"
      },
      "source": [
        "def add_end_idx(answers, contexts):\n",
        "    for answer, context in zip(answers, contexts):\n",
        "        gold_text = answer['text']\n",
        "        start_idx = answer['answer_start']\n",
        "        end_idx = start_idx + len(gold_text)\n",
        "\n",
        "        # sometimes squad answers are off by a character or two – fix this\n",
        "        if context[start_idx:end_idx] == gold_text:\n",
        "            answer['answer_end'] = end_idx\n",
        "        elif context[start_idx-1:end_idx-1] == gold_text:\n",
        "            answer['answer_start'] = start_idx - 1\n",
        "            answer['answer_end'] = end_idx - 1     # When the gold label is off by one character\n",
        "        elif context[start_idx-2:end_idx-2] == gold_text:\n",
        "            answer['answer_start'] = start_idx - 2\n",
        "            answer['answer_end'] = end_idx - 2     # When the gold label is off by two characters\n",
        "\n",
        "add_end_idx(train_answers, train_contexts)\n",
        "add_end_idx(val_answers, val_contexts)"
      ],
      "execution_count": null,
      "outputs": []
    },
    {
      "cell_type": "code",
      "metadata": {
        "id": "q_lGxhDRm15W"
      },
      "source": [
        "from transformers import DistilBertTokenizerFast\n",
        "\n",
        "tokenizer = DistilBertTokenizerFast.from_pretrained('monologg/kobert')\n",
        "\n",
        "train_encodings = tokenizer(train_contexts, train_questions, truncation=True, padding=True)\n",
        "val_encodings = tokenizer(val_contexts, val_questions, truncation=True, padding=True)"
      ],
      "execution_count": null,
      "outputs": []
    },
    {
      "cell_type": "code",
      "metadata": {
        "id": "L1fyvntqnIeG"
      },
      "source": [
        "def add_token_positions(encodings, answers):\n",
        "    start_positions = []\n",
        "    end_positions = []\n",
        "    for i in range(len(answers)):\n",
        "        start_positions.append(encodings.char_to_token(i, answers[i]['answer_start']))\n",
        "        end_positions.append(encodings.char_to_token(i, answers[i]['answer_end'] - 1))\n",
        "\n",
        "        # if start position is None, the answer passage has been truncated\n",
        "        if start_positions[-1] is None:\n",
        "            start_positions[-1] = tokenizer.model_max_length\n",
        "        if end_positions[-1] is None:\n",
        "            end_positions[-1] = tokenizer.model_max_length\n",
        "\n",
        "    encodings.update({'start_positions': start_positions, 'end_positions': end_positions})\n",
        "\n",
        "add_token_positions(train_encodings, train_answers)\n",
        "add_token_positions(val_encodings, val_answers)"
      ],
      "execution_count": null,
      "outputs": []
    }
  ]
}